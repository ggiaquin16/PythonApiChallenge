{
 "cells": [
  {
   "cell_type": "markdown",
   "metadata": {},
   "source": [
    "# WeatherPy\n",
    "----\n",
    "\n",
    "#### Note\n",
    "* Instructions have been included for each segment. You do not have to follow them exactly, but they are included to help you think through the steps."
   ]
  },
  {
   "cell_type": "code",
   "execution_count": 1,
   "metadata": {
    "scrolled": true
   },
   "outputs": [],
   "source": [
    "# Dependencies and Setup\n",
    "import matplotlib.pyplot as plt\n",
    "import pandas as pd\n",
    "import numpy as np\n",
    "import requests\n",
    "import time\n",
    "import csv\n",
    "from scipy.stats import linregress\n",
    "\n",
    "# Import API key\n",
    "from api_keys import weather_api_key\n",
    "\n",
    "# Incorporated citipy to determine city based on latitude and longitude\n",
    "from citipy import citipy\n",
    "\n",
    "# Output File (CSV)\n",
    "output_data_file = \"output_data/cities.csv\"\n",
    "\n",
    "# Range of latitudes and longitudes\n",
    "lat_range = (-90, 90)\n",
    "lng_range = (-180, 180)"
   ]
  },
  {
   "cell_type": "markdown",
   "metadata": {},
   "source": [
    "## Generate Cities List"
   ]
  },
  {
   "cell_type": "code",
   "execution_count": 2,
   "metadata": {},
   "outputs": [
    {
     "data": {
      "text/plain": [
       "614"
      ]
     },
     "execution_count": 2,
     "metadata": {},
     "output_type": "execute_result"
    }
   ],
   "source": [
    "# List for holding lat_lngs and cities\n",
    "lat_lngs = []\n",
    "cities = []\n",
    "\n",
    "# Create a set of random lat and lng combinations\n",
    "lats = np.random.uniform(low=-90.000, high=90.000, size=1500)\n",
    "lngs = np.random.uniform(low=-180.000, high=180.000, size=1500)\n",
    "lat_lngs = zip(lats, lngs)\n",
    "\n",
    "# Identify nearest city for each lat, lng combination\n",
    "for lat_lng in lat_lngs:\n",
    "    city = citipy.nearest_city(lat_lng[0], lat_lng[1]).city_name\n",
    "    \n",
    "    # If the city is unique, then add it to a our cities list\n",
    "    if city not in cities:\n",
    "        cities.append(city)\n",
    "\n",
    "# Print the city count to confirm sufficient count\n",
    "len(cities)"
   ]
  },
  {
   "cell_type": "markdown",
   "metadata": {},
   "source": [
    "### Perform API Calls\n",
    "* Perform a weather check on each city using a series of successive API calls.\n",
    "* Include a print log of each city as it'sbeing processed (with the city number and city name).\n"
   ]
  },
  {
   "cell_type": "code",
   "execution_count": 3,
   "metadata": {},
   "outputs": [
    {
     "name": "stdout",
     "output_type": "stream",
     "text": [
      "processing record hithadhoo ID: 1282256\n",
      "skipping city\n",
      "processing record lavrentiya ID: 4031637\n",
      "processing record kavieng ID: 2094342\n",
      "processing record cape town ID: 3369157\n",
      "processing record souillac ID: 933995\n",
      "processing record sistranda ID: 3139597\n",
      "processing record uribia ID: 3666409\n",
      "processing record chokwe ID: 1048364\n",
      "processing record san patricio ID: 3985168\n",
      "processing record ostersund ID: 2685750\n",
      "processing record namioka ID: 2129005\n",
      "processing record victoria ID: 1819729\n",
      "processing record iquique ID: 3887127\n",
      "processing record hermanus ID: 3366880\n",
      "processing record hobart ID: 2163355\n",
      "processing record mount gambier ID: 2156643\n",
      "processing record saskylakh ID: 2017155\n",
      "processing record gat ID: 293842\n",
      "processing record vaini ID: 4032243\n",
      "processing record port alfred ID: 964432\n",
      "processing record kapaa ID: 5848280\n",
      "processing record mahebourg ID: 934322\n",
      "processing record bubaque ID: 2374583\n",
      "processing record richards bay ID: 962367\n",
      "processing record punta arenas ID: 3874787\n",
      "processing record rikitea ID: 4030556\n",
      "processing record vestmannaeyjar ID: 3412093\n",
      "processing record bhojudih ID: 1275866\n",
      "processing record ushuaia ID: 3833367\n",
      "processing record shancheng ID: 1795919\n",
      "processing record airai ID: 1651810\n",
      "processing record mataura ID: 6201424\n",
      "processing record alenquer ID: 3407980\n",
      "processing record cherskiy ID: 2126199\n",
      "processing record pemangkat ID: 1631637\n",
      "skipping city\n",
      "processing record kaeo ID: 2189343\n",
      "processing record raudeberg ID: 3146487\n",
      "skipping city\n",
      "processing record saint-pierre ID: 935214\n",
      "processing record port elizabeth ID: 964420\n",
      "skipping city\n",
      "processing record klaksvik ID: 2618795\n",
      "processing record nikolskoye ID: 546105\n",
      "processing record ilulissat ID: 3423146\n",
      "processing record brae ID: 2654970\n",
      "processing record puerto ayora ID: 3652764\n",
      "processing record hilo ID: 5855927\n",
      "processing record bundaberg ID: 2173323\n",
      "processing record albany ID: 5106841\n",
      "processing record georgetown ID: 1735106\n",
      "processing record ambilobe ID: 1082243\n",
      "skipping city\n",
      "processing record esperance ID: 2071860\n",
      "processing record busselton ID: 2075265\n",
      "processing record luderitz ID: 3355672\n",
      "skipping city\n",
      "processing record svetlyy ID: 485660\n",
      "skipping city\n",
      "processing record bilma ID: 2446796\n",
      "processing record ngunguru ID: 2186111\n",
      "processing record yerbogachen ID: 2012956\n",
      "processing record yellowknife ID: 6185377\n",
      "processing record khorixas ID: 3356213\n",
      "processing record san miguel de cauri ID: 3929389\n",
      "processing record ust-maya ID: 2013918\n",
      "skipping city\n",
      "processing record puerto baquerizo moreno ID: 3652758\n",
      "processing record saint george ID: 5546220\n",
      "processing record ancud ID: 3899695\n",
      "processing record waipawa ID: 2206874\n",
      "processing record butaritari ID: 2110227\n",
      "processing record east london ID: 1006984\n",
      "processing record denpasar ID: 1645528\n",
      "processing record yeppoon ID: 2142316\n",
      "processing record faanui ID: 4034551\n",
      "processing record kimbe ID: 2093967\n",
      "processing record bethel ID: 5282297\n",
      "processing record atuona ID: 4020109\n",
      "processing record harer ID: 335035\n",
      "processing record lata ID: 2738381\n",
      "processing record iberia ID: 4328254\n",
      "processing record kodiak ID: 5866583\n",
      "processing record dikson ID: 1507390\n",
      "processing record high level ID: 5975004\n",
      "processing record srednekolymsk ID: 2121025\n",
      "skipping city\n",
      "processing record jamestown ID: 5122534\n",
      "processing record makakilo city ID: 5850554\n",
      "skipping city\n",
      "processing record quatre cocos ID: 1106643\n",
      "processing record surab ID: 1164306\n",
      "processing record castro ID: 3466704\n",
      "processing record mosquera ID: 3674292\n",
      "processing record puerto colombia ID: 3671497\n",
      "processing record concordia ID: 3435261\n",
      "processing record alofi ID: 4036284\n",
      "processing record tautira ID: 4033557\n",
      "processing record pevek ID: 2122090\n",
      "processing record pangody ID: 1495626\n",
      "processing record sorland ID: 3137469\n",
      "processing record waupun ID: 5278106\n",
      "processing record amaraji ID: 3407758\n",
      "processing record avarua ID: 4035715\n",
      "processing record boulder city ID: 5500539\n",
      "skipping city\n",
      "processing record coquimbo ID: 3893629\n",
      "processing record saint-augustin ID: 6137462\n",
      "processing record vila franca do campo ID: 3372472\n",
      "processing record torbay ID: 6167817\n",
      "skipping city\n",
      "processing record bluff ID: 2206939\n",
      "processing record deputatskiy ID: 2028164\n",
      "processing record lebu ID: 3883457\n",
      "processing record laguna ID: 5364271\n",
      "processing record tuktoyaktuk ID: 6170031\n",
      "processing record christchurch ID: 2192362\n",
      "processing record khonsa ID: 1266668\n",
      "processing record clyde river ID: 5924351\n",
      "processing record revda ID: 502011\n",
      "processing record samoylovka ID: 498956\n",
      "processing record anadyr ID: 2127202\n",
      "skipping city\n",
      "skipping city\n",
      "processing record barrow ID: 5880054\n",
      "processing record iqaluit ID: 5983720\n",
      "processing record necochea ID: 3430443\n",
      "processing record bredasdorp ID: 1015776\n",
      "processing record cabo san lucas ID: 3985710\n",
      "processing record jiazi ID: 1805935\n",
      "processing record lompoc ID: 5367788\n",
      "processing record sisimiut ID: 3419842\n",
      "processing record caucaia ID: 3402429\n",
      "processing record nouakchott ID: 2377450\n",
      "processing record nadym ID: 1498087\n",
      "skipping city\n",
      "processing record tuatapere ID: 2180815\n",
      "processing record qaqortoq ID: 3420846\n",
      "processing record estacion coahuila ID: 3979494\n",
      "processing record chokurdakh ID: 2126123\n",
      "processing record ahipara ID: 2194098\n",
      "processing record beringovskiy ID: 2126710\n",
      "processing record yekimovichi ID: 468116\n",
      "processing record kesova gora ID: 550949\n",
      "processing record khatanga ID: 2022572\n",
      "processing record dingle ID: 1714733\n",
      "processing record vardo ID: 777019\n",
      "processing record pisco ID: 3932145\n",
      "processing record thompson ID: 6165406\n",
      "processing record alice springs ID: 2077895\n",
      "processing record tiksi ID: 2015306\n",
      "processing record gushikawa ID: 1863495\n",
      "processing record marfino ID: 529368\n",
      "processing record saldanha ID: 3361934\n",
      "processing record baculin ID: 1729469\n",
      "processing record cidreira ID: 3466165\n",
      "processing record asau ID: 686090\n",
      "processing record la ronge ID: 6050066\n",
      "processing record chuy ID: 3443061\n",
      "processing record zatoka ID: 687557\n",
      "processing record mtwara ID: 877747\n",
      "processing record sakakah ID: 102527\n",
      "processing record vila do maio ID: 3374120\n",
      "processing record camana ID: 3945985\n",
      "processing record ewa beach ID: 5855051\n",
      "processing record xam nua ID: 1652203\n",
      "processing record mumbwa ID: 904422\n",
      "skipping city\n",
      "processing record qaanaaq ID: 3831208\n",
      "processing record muli ID: 1337617\n",
      "processing record shelton ID: 4842898\n",
      "processing record lagoa ID: 3372964\n",
      "processing record danville ID: 4755280\n",
      "processing record new norfolk ID: 2155415\n",
      "processing record requena ID: 2511930\n",
      "processing record stolin ID: 621277\n",
      "processing record vanimo ID: 2084442\n",
      "processing record manuk mangkaw ID: 1701394\n",
      "processing record karlshamn ID: 2701727\n",
      "processing record jesus maria ID: 3853510\n",
      "processing record tessalit ID: 2449893\n",
      "processing record antofagasta ID: 3899539\n",
      "processing record sitka ID: 5557293\n",
      "processing record tasiilaq ID: 3424607\n",
      "processing record lorengau ID: 2092164\n",
      "processing record kaohsiung ID: 1673820\n",
      "processing record izmit ID: 745028\n",
      "processing record provideniya ID: 4031574\n",
      "skipping city\n",
      "processing record nara ID: 1855612\n",
      "processing record shingu ID: 1847947\n",
      "processing record hasaki ID: 2112802\n",
      "processing record berlevag ID: 780687\n",
      "processing record fukue ID: 1863997\n",
      "processing record kundiawa ID: 2093059\n",
      "processing record galesong ID: 1644605\n",
      "processing record masindi ID: 229362\n",
      "processing record ostrovnoy ID: 556268\n",
      "processing record mnogovershinnyy ID: 2019935\n",
      "processing record hofn ID: 2630299\n",
      "processing record vilcun ID: 3868210\n",
      "processing record miramar ID: 4164601\n",
      "skipping city\n",
      "processing record codrington ID: 2171099\n",
      "skipping city\n",
      "processing record ochamchira ID: 612652\n",
      "processing record bambous virieux ID: 1106677\n",
      "processing record batemans bay ID: 2176639\n",
      "processing record makarska ID: 3195890\n",
      "processing record takoradi ID: 2294915\n",
      "processing record napier ID: 2186313\n",
      "processing record isangel ID: 2136825\n",
      "processing record chake chake ID: 160677\n",
      "processing record peniche ID: 2264923\n",
      "skipping city\n",
      "processing record abomsa ID: 345704\n",
      "processing record upernavik ID: 3418910\n",
      "processing record bereda ID: 3105522\n",
      "processing record calvinia ID: 3369174\n",
      "processing record hami ID: 1529484\n",
      "processing record cabra ID: 2520645\n",
      "skipping city\n",
      "processing record faya ID: 110690\n"
     ]
    },
    {
     "name": "stdout",
     "output_type": "stream",
     "text": [
      "processing record kavaratti ID: 1267390\n",
      "processing record talnakh ID: 1490256\n",
      "processing record tura ID: 1254046\n",
      "processing record edd ID: 338345\n",
      "processing record axim ID: 2303611\n",
      "processing record japura ID: 1642773\n",
      "processing record gazli ID: 1513990\n",
      "processing record leningradskiy ID: 2123814\n",
      "processing record tigil ID: 2120612\n",
      "skipping city\n",
      "processing record berezyne ID: 712349\n",
      "processing record athabasca ID: 5887916\n",
      "processing record manokwari ID: 1636308\n",
      "processing record elk plain ID: 5793609\n",
      "processing record mogzon ID: 2019884\n",
      "processing record kendari ID: 1640344\n",
      "processing record jalu ID: 86049\n",
      "processing record padang ID: 1633419\n",
      "processing record becerril ID: 3689026\n",
      "processing record vao ID: 2137773\n",
      "processing record asfi ID: 2537881\n",
      "processing record tocopilla ID: 3869716\n",
      "processing record bandarbeyla ID: 64814\n",
      "processing record ornskoldsvik ID: 2686469\n",
      "processing record batagay ID: 2027044\n",
      "processing record narsaq ID: 3421719\n",
      "processing record ponta do sol ID: 2264557\n",
      "processing record fort nelson ID: 5955902\n",
      "skipping city\n",
      "processing record port hedland ID: 2063042\n",
      "processing record zabaykalsk ID: 2012780\n",
      "processing record tiznit ID: 2527087\n",
      "processing record great bend ID: 4272340\n",
      "processing record ribeira grande ID: 3372707\n",
      "processing record nanortalik ID: 3421765\n",
      "processing record itapirapua ID: 3460697\n",
      "processing record guerrero negro ID: 4021858\n",
      "processing record miandoab ID: 124085\n",
      "processing record batagay-alyta ID: 2027042\n",
      "processing record nadvoitsy ID: 523662\n",
      "processing record inegol ID: 745169\n",
      "processing record sao joao da barra ID: 3448903\n",
      "processing record innisfail ID: 2162683\n",
      "processing record hecelchakan ID: 3527149\n",
      "processing record dedougou ID: 2361477\n",
      "processing record zhicheng ID: 1784554\n",
      "processing record esso ID: 2125711\n",
      "processing record rio das ostras ID: 3451205\n",
      "processing record fort myers beach ID: 4155996\n",
      "processing record longyearbyen ID: 2729907\n",
      "processing record laurel ID: 4360369\n",
      "processing record rawson ID: 3839307\n",
      "processing record ouesso ID: 2255564\n",
      "processing record wote ID: 178077\n",
      "processing record rocha ID: 3440777\n",
      "processing record carballo ID: 3126369\n",
      "processing record grand-lahou ID: 2288105\n",
      "processing record vegreville ID: 6173635\n",
      "processing record carnarvon ID: 2074865\n",
      "processing record arraial do cabo ID: 3471451\n",
      "processing record severo-kurilsk ID: 2121385\n",
      "processing record elko ID: 5703673\n",
      "processing record road town ID: 3577430\n",
      "processing record omsukchan ID: 2122493\n",
      "processing record aklavik ID: 5882953\n",
      "skipping city\n",
      "processing record pochutla ID: 3517970\n",
      "processing record antipino ID: 1511538\n",
      "processing record tuzla ID: 3188582\n",
      "processing record saint-philippe ID: 935215\n",
      "processing record amapa ID: 3407762\n",
      "processing record jojoima ID: 2408399\n",
      "processing record gandajika ID: 216449\n",
      "processing record mahajanga ID: 1062663\n",
      "processing record sarab ID: 126972\n",
      "processing record kindu ID: 212902\n",
      "processing record cedar city ID: 5536630\n",
      "processing record te anau ID: 2181625\n",
      "processing record dhaulpur ID: 1272805\n",
      "processing record prokuplje ID: 786690\n",
      "processing record wanning ID: 1791779\n",
      "processing record hualmay ID: 3939761\n",
      "processing record valera ID: 3625542\n",
      "processing record totoral ID: 3927023\n",
      "processing record ibaiti ID: 3461628\n",
      "processing record ishinomaki ID: 2112576\n",
      "processing record vostok ID: 2013279\n",
      "processing record cotonou ID: 2394819\n",
      "processing record bengkulu ID: 1649150\n",
      "processing record znamenskoye ID: 1485020\n",
      "processing record simbahan ID: 1695180\n",
      "processing record tucuma ID: 3385980\n",
      "processing record humberto de campos ID: 3398428\n",
      "processing record jacareacanga ID: 3397763\n",
      "processing record kenai ID: 5866063\n",
      "processing record puqi ID: 1798473\n",
      "processing record san vicente de canete ID: 3928993\n",
      "processing record cap malheureux ID: 934649\n",
      "processing record vagur ID: 2610806\n",
      "processing record creel ID: 4012593\n",
      "processing record qasigiannguit ID: 3420768\n",
      "processing record bastia ID: 3034639\n",
      "processing record kungurtug ID: 1501377\n",
      "skipping city\n",
      "processing record sunrise manor ID: 5513343\n",
      "processing record liverpool ID: 2644210\n",
      "processing record puerto escondido ID: 3520994\n",
      "processing record haines junction ID: 5969025\n",
      "processing record erenhot ID: 2037485\n",
      "processing record banposh ID: 1277247\n",
      "processing record mar del plata ID: 3430863\n",
      "processing record nguruka ID: 151567\n",
      "processing record namatanai ID: 2090021\n",
      "processing record coria ID: 2519234\n",
      "processing record kruisfontein ID: 986717\n",
      "processing record nuuk ID: 3421319\n",
      "processing record marsh harbour ID: 3571913\n",
      "processing record cockburn town ID: 3576994\n",
      "processing record rio gallegos ID: 3838859\n",
      "skipping city\n",
      "processing record pacific grove ID: 5380437\n",
      "processing record bolondron ID: 3567082\n",
      "processing record port blair ID: 1259385\n",
      "processing record college ID: 5859699\n",
      "processing record ajaccio ID: 3038333\n",
      "processing record ito ID: 1861290\n",
      "processing record kiunga ID: 2093846\n",
      "skipping city\n",
      "processing record irtyshskiy ID: 1505495\n",
      "processing record naron ID: 3115739\n",
      "skipping city\n",
      "processing record araouane ID: 2460954\n",
      "processing record kaitangata ID: 2208248\n",
      "processing record honiara ID: 2108502\n",
      "processing record ust-karsk ID: 2013942\n",
      "processing record santona ID: 3109527\n",
      "processing record great falls ID: 5655240\n",
      "processing record sao filipe ID: 3374210\n",
      "processing record cabedelo ID: 3404558\n",
      "processing record shimoda ID: 1852357\n",
      "skipping city\n",
      "processing record limulunga ID: 910361\n",
      "processing record ust-nera ID: 2120048\n",
      "processing record farah ID: 1142263\n",
      "processing record katav-ivanovsk ID: 551794\n",
      "processing record margate ID: 2643044\n",
      "processing record ozernovskiy ID: 2122293\n",
      "processing record cheney ID: 5789856\n",
      "skipping city\n",
      "processing record vondrozo ID: 1053507\n",
      "processing record una ID: 1253783\n",
      "processing record makat ID: 608872\n",
      "processing record nome ID: 5870133\n",
      "processing record helsinki ID: 658225\n",
      "processing record tawang ID: 1254832\n",
      "processing record mmathubudukwane ID: 933347\n",
      "processing record namibe ID: 3347019\n",
      "processing record ambunti ID: 2100933\n",
      "processing record aykhal ID: 2027296\n",
      "processing record dwarka ID: 1272140\n",
      "processing record cherdyn ID: 569359\n",
      "processing record bayeux ID: 3405940\n",
      "processing record gijon ID: 3121424\n",
      "processing record bembereke ID: 2395182\n",
      "processing record sola ID: 2134814\n",
      "processing record boguchany ID: 1509844\n",
      "processing record moindou ID: 2140466\n",
      "processing record nago ID: 1856068\n",
      "processing record praxedis guerrero ID: 3974771\n",
      "processing record khatassy ID: 2022564\n",
      "processing record kijabe ID: 192202\n",
      "processing record kalmunai ID: 1242110\n",
      "processing record katherine ID: 2068655\n",
      "processing record paso de carrasco ID: 3441292\n",
      "processing record usinsk ID: 863061\n",
      "processing record kadoshkino ID: 554544\n",
      "processing record suhbaatar ID: 2029156\n",
      "processing record havre-saint-pierre ID: 5972291\n",
      "processing record nouadhibou ID: 2377457\n",
      "processing record kolpashevo ID: 1502862\n",
      "processing record pangnirtung ID: 6096551\n",
      "processing record huarmey ID: 3939168\n",
      "processing record matara ID: 1235846\n",
      "processing record harper ID: 2276492\n",
      "processing record dicabisagan ID: 1715015\n",
      "processing record igarka ID: 1505991\n",
      "processing record dunedin ID: 2191562\n",
      "processing record paysandu ID: 3441243\n",
      "processing record kahului ID: 5847411\n",
      "processing record manta ID: 3654410\n",
      "processing record geraldton ID: 2070998\n",
      "processing record abu dhabi ID: 292968\n",
      "processing record dongsheng ID: 1812256\n",
      "processing record kostomuksha ID: 543899\n",
      "processing record salalah ID: 286621\n",
      "processing record homer ID: 5864145\n",
      "processing record otradnoye ID: 513898\n",
      "processing record hellin ID: 2516797\n",
      "processing record meulaboh ID: 1214488\n",
      "processing record nishihara ID: 1855342\n",
      "processing record trinidad ID: 3902377\n",
      "processing record lerwick ID: 2644605\n",
      "processing record antalaha ID: 1071296\n",
      "processing record takaungu ID: 179634\n",
      "skipping city\n",
      "processing record morada nova ID: 3394500\n",
      "processing record hudson bay ID: 5978133\n",
      "processing record akyab ID: 1295765\n",
      "processing record oktyabrskiy ID: 515879\n",
      "processing record raton ID: 5486795\n",
      "processing record saravan ID: 174726\n",
      "processing record bilibino ID: 2126682\n",
      "processing record come ID: 2394824\n",
      "processing record diamantina ID: 3464728\n",
      "processing record santiago del estero ID: 3835869\n"
     ]
    },
    {
     "name": "stdout",
     "output_type": "stream",
     "text": [
      "processing record garowe ID: 58933\n",
      "processing record calama ID: 3897347\n",
      "skipping city\n",
      "processing record fonte boa ID: 6319315\n",
      "processing record yumen ID: 1528998\n",
      "processing record plettenberg bay ID: 964712\n",
      "processing record banff ID: 5892532\n",
      "processing record santa rosa ID: 1687894\n",
      "processing record sayyan ID: 70979\n",
      "processing record yaan ID: 2338660\n",
      "processing record columbus ID: 4509177\n",
      "processing record abha ID: 110690\n",
      "processing record fairbanks ID: 5861897\n",
      "processing record yulara ID: 6355222\n",
      "skipping city\n",
      "processing record sijunjung ID: 1627185\n",
      "processing record norman wells ID: 6089245\n",
      "processing record osypenko ID: 698316\n",
      "skipping city\n",
      "processing record iskateley ID: 866062\n",
      "processing record korla ID: 1529376\n",
      "processing record cururupu ID: 3401148\n",
      "processing record dolores ID: 3435038\n",
      "processing record podosinovets ID: 508068\n",
      "processing record baykit ID: 1510689\n",
      "processing record lakes entrance ID: 2160735\n",
      "processing record tarko-sale ID: 1490085\n",
      "processing record hurricane ID: 5540831\n",
      "processing record brigantine ID: 4500920\n",
      "processing record la rioja ID: 3336897\n",
      "processing record biskamzha ID: 1510030\n",
      "processing record belmonte ID: 3470137\n",
      "processing record yar-sale ID: 1486321\n",
      "processing record liling ID: 1803616\n",
      "processing record rafaela ID: 3839479\n",
      "processing record nuzvid ID: 1261110\n",
      "processing record grand gaube ID: 934479\n",
      "processing record mehamn ID: 778707\n",
      "processing record bowen ID: 2174444\n",
      "processing record wencheng ID: 1791539\n",
      "processing record dhidhdhoo ID: 1337612\n",
      "processing record atar ID: 2381334\n",
      "processing record san andres ID: 3670218\n",
      "processing record luganville ID: 2136150\n",
      "processing record kibre mengist ID: 333103\n",
      "processing record bolivar ID: 4377835\n",
      "processing record hamadan ID: 132144\n",
      "processing record sur ID: 286245\n",
      "processing record siwana ID: 1255925\n",
      "skipping city\n",
      "processing record flinders ID: 6255012\n",
      "processing record kaduqli ID: 373141\n",
      "processing record praia ID: 3374333\n",
      "processing record mount vernon ID: 5127835\n",
      "processing record parnarama ID: 3392996\n",
      "processing record aasiaat ID: 3424901\n",
      "processing record salinopolis ID: 3389822\n",
      "processing record okoneshnikovo ID: 1496329\n",
      "processing record forio ID: 3176748\n",
      "processing record centralia ID: 5789683\n",
      "processing record kingaroy ID: 2161376\n",
      "processing record jumla ID: 1283285\n",
      "processing record suntar ID: 2015913\n",
      "processing record fort morgan ID: 5577158\n",
      "processing record nogent-le-rotrou ID: 2990271\n",
      "processing record nata ID: 3703938\n",
      "processing record kudahuvadhoo ID: 1337607\n",
      "processing record loandjili ID: 2258378\n",
      "processing record bathsheba ID: 3374083\n",
      "processing record mokrousovo ID: 1498511\n",
      "processing record yerky ID: 688127\n",
      "processing record guanare ID: 3640226\n",
      "processing record arlit ID: 2447513\n",
      "processing record aksaray ID: 324496\n",
      "processing record okhotsk ID: 2122605\n",
      "processing record melfi ID: 3173615\n",
      "processing record pandan ID: 1695546\n",
      "processing record mecca ID: 104515\n",
      "processing record riyadh ID: 108410\n",
      "processing record igrim ID: 1505965\n",
      "processing record boaco ID: 3620674\n",
      "processing record orocue ID: 3673536\n",
      "processing record krasne ID: 704277\n",
      "processing record estelle ID: 4323873\n",
      "processing record martil ID: 2542987\n",
      "processing record ciudad bolivar ID: 3645532\n",
      "processing record havoysund ID: 779622\n",
      "processing record alyangula ID: 2079582\n",
      "processing record buala ID: 2109528\n",
      "processing record benalla ID: 2176225\n",
      "skipping city\n",
      "processing record kirakira ID: 2178753\n",
      "processing record dorsten ID: 2935530\n",
      "processing record husavik ID: 2629833\n",
      "processing record gigmoto ID: 1712961\n",
      "processing record constitucion ID: 3893726\n",
      "processing record toccoa ID: 4226722\n",
      "processing record darnah ID: 87205\n",
      "processing record hue ID: 1580240\n",
      "processing record clones ID: 2965367\n",
      "processing record carutapera ID: 3402648\n",
      "processing record ajdabiya ID: 89113\n",
      "processing record ningxiang ID: 1784239\n",
      "skipping city\n",
      "processing record wagar ID: 364027\n",
      "processing record whitehorse ID: 6180550\n",
      "processing record berbera ID: 64435\n",
      "processing record hamilton ID: 4513583\n",
      "processing record ola ID: 2122574\n",
      "processing record lotofaga ID: 4035252\n",
      "processing record mexico ID: 1699805\n",
      "processing record kununurra ID: 2068110\n",
      "processing record messina ID: 2524170\n",
      "processing record arica ID: 3899361\n",
      "processing record kachiry ID: 1523662\n",
      "processing record itoman ID: 1861280\n",
      "skipping city\n",
      "processing record veraval ID: 1253237\n",
      "processing record daru ID: 2098329\n",
      "processing record inuvik ID: 5983607\n",
      "processing record colares ID: 2269142\n",
      "processing record venice ID: 4176380\n",
      "processing record oyama ID: 1853483\n",
      "processing record ileza ID: 829291\n",
      "processing record bagotville ID: 2177254\n",
      "processing record caceres ID: 2520610\n",
      "processing record carbonia ID: 2525362\n",
      "processing record san cristobal ID: 3628473\n",
      "processing record kabalo ID: 215668\n",
      "processing record adamas ID: 265711\n",
      "processing record shyryayeve ID: 694016\n",
      "processing record gamba ID: 2400547\n",
      "skipping city\n",
      "processing record manzhouli ID: 2035836\n",
      "processing record kutum ID: 371745\n",
      "processing record ponta delgada ID: 3372783\n",
      "processing record princeton ID: 4169345\n",
      "processing record pitimbu ID: 3391889\n",
      "skipping city\n",
      "processing record arani ID: 1278454\n",
      "processing record nakatsugawa ID: 1855753\n",
      "processing record the pas ID: 6164499\n",
      "processing record merauke ID: 2082539\n",
      "processing record cruzeiro do sul ID: 3465080\n",
      "processing record palu ID: 1633034\n",
      "processing record orel-izumrud ID: 803494\n",
      "processing record sambulawan ID: 1696017\n",
      "processing record eyrarbakki ID: 3413604\n",
      "processing record balkhash ID: 1525798\n",
      "processing record bambanglipuro ID: 1650434\n",
      "processing record nizhniy odes ID: 520552\n",
      "processing record hervey bay ID: 2146219\n",
      "processing record baijiantan ID: 1529626\n",
      "processing record tucupita ID: 3625929\n",
      "processing record changli ID: 1815656\n",
      "processing record naze ID: 1855540\n",
      "processing record ayan ID: 2027316\n",
      "processing record jaypur ID: 1269092\n",
      "processing record north bend ID: 5742974\n",
      "processing record tsumeb ID: 3352593\n",
      "processing record dinghai ID: 1812805\n",
      "processing record heilbron ID: 997140\n",
      "processing record deep river ID: 5937073\n",
      "processing record sandwick ID: 2638534\n",
      "processing record bridlington ID: 2654728\n",
      "processing record crateus ID: 3401548\n",
      "processing record meadow lake ID: 5478673\n",
      "processing record samarai ID: 2132606\n",
      "processing record labuhan ID: 8079926\n",
      "processing record verkhoyansk ID: 2013465\n",
      "processing record kerchevskiy ID: 551047\n",
      "processing record novopavlovka ID: 2018896\n",
      "processing record shieli ID: 1524801\n",
      "processing record cape canaveral ID: 4149959\n",
      "processing record talcahuano ID: 3870282\n"
     ]
    }
   ],
   "source": [
    "currentWeatherAPI = \"http://api.openweathermap.org/data/2.5/weather?\"\n",
    "units = \"Imperial\"\n",
    "\n",
    "temperature = []\n",
    "humidity = []\n",
    "cloudiness = []\n",
    "windSpeed = []\n",
    "lat = []\n",
    "cityID = []\n",
    "cityName = []\n",
    "maxTemp = []\n",
    "# Build partial query URL\n",
    "query_url = f\"{currentWeatherAPI}appid={weather_api_key}&units={units}&q=\"\n",
    "for city in cities:\n",
    "    response = requests.get(query_url + city).json()\n",
    "    if response['cod'] == 200:\n",
    "        lat.append(response['coord']['lat'])\n",
    "        temperature.append(response['main']['temp'])\n",
    "        humidity.append(response['main']['humidity'])\n",
    "        windSpeed.append(response['wind']['speed'])\n",
    "        cloudiness.append(response['clouds']['all'])\n",
    "        cityID.append(response['id'])\n",
    "        cityName.append(response['name'])\n",
    "        maxTemp.append(response['main']['temp_max'])\n",
    "        print(f\"processing record {city} ID: {response['id']}\")\n",
    "    else:\n",
    "        print(\"skipping city\")"
   ]
  },
  {
   "cell_type": "markdown",
   "metadata": {},
   "source": [
    "### Convert Raw Data to DataFrame\n",
    "* Export the city data into a .csv.\n",
    "* Display the DataFrame"
   ]
  },
  {
   "cell_type": "code",
   "execution_count": 4,
   "metadata": {},
   "outputs": [],
   "source": [
    "cityWeatherDF = pd.DataFrame({'CityID': cityID,\n",
    "                              'CityName': cityName,\n",
    "                              'Lat': lat,\n",
    "                              'Temperature': temperature,\n",
    "                              'MaxTemp': maxTemp,\n",
    "                              'Humidity': humidity,\n",
    "                              'Cloudiness': cloudiness,\n",
    "                              'WindSpeed': windSpeed})\n",
    "cityWeatherDF.to_csv('city_weather.csv')"
   ]
  },
  {
   "cell_type": "markdown",
   "metadata": {},
   "source": [
    "### Plotting the Data\n",
    "* Use proper labeling of the plots using plot titles (including date of analysis) and axes labels.\n",
    "* Save the plotted figures as .pngs."
   ]
  },
  {
   "cell_type": "markdown",
   "metadata": {},
   "source": [
    "#### Latitude vs. Temperature Plot"
   ]
  },
  {
   "cell_type": "code",
   "execution_count": 5,
   "metadata": {
    "scrolled": true
   },
   "outputs": [
    {
     "data": {
      "image/png": "[encoded data removed]",
      "text/plain": [
       "<Figure size 432x288 with 1 Axes>"
      ]
     },
     "metadata": {
      "needs_background": "light"
     },
     "output_type": "display_data"
    }
   ],
   "source": [
    "x_values = cityWeatherDF['Lat']\n",
    "y_values = cityWeatherDF['Temperature']\n",
    "plt.scatter(x_values,y_values)\n",
    "plt.xlabel('Latitude')\n",
    "plt.ylabel('Temperature (F)')\n",
    "plt.title('Latitude vs Temperature 1/18/2020')\n",
    "plt.show()"
   ]
  },
  {
   "cell_type": "markdown",
   "metadata": {},
   "source": [
    "#### Latitude vs. Humidity Plot"
   ]
  },
  {
   "cell_type": "code",
   "execution_count": 6,
   "metadata": {},
   "outputs": [
    {
     "data": {
      "image/png": "[encoded data removed]",
      "text/plain": [
       "<Figure size 432x288 with 1 Axes>"
      ]
     },
     "metadata": {
      "needs_background": "light"
     },
     "output_type": "display_data"
    }
   ],
   "source": [
    "x_values = cityWeatherDF['Lat']\n",
    "y_values = cityWeatherDF['Humidity']\n",
    "plt.scatter(x_values,y_values)\n",
    "plt.xlabel('Latitude')\n",
    "plt.ylabel('Humidity%')\n",
    "plt.title('Latitude vs Humidity 1/18/2020')\n",
    "plt.show()"
   ]
  },
  {
   "cell_type": "markdown",
   "metadata": {},
   "source": [
    "#### Latitude vs. Cloudiness Plot"
   ]
  },
  {
   "cell_type": "code",
   "execution_count": 7,
   "metadata": {},
   "outputs": [
    {
     "data": {
      "image/png": "[encoded data removed]",
      "text/plain": [
       "<Figure size 432x288 with 1 Axes>"
      ]
     },
     "metadata": {
      "needs_background": "light"
     },
     "output_type": "display_data"
    }
   ],
   "source": [
    "x_values = cityWeatherDF['Lat']\n",
    "y_values = cityWeatherDF['Cloudiness']\n",
    "plt.scatter(x_values,y_values)\n",
    "plt.xlabel('Latitude')\n",
    "plt.ylabel('Cloudiness %')\n",
    "plt.title('Latitude vs Cloudiness 1/18/2020')\n",
    "plt.show()"
   ]
  },
  {
   "cell_type": "markdown",
   "metadata": {},
   "source": [
    "#### Latitude vs. Wind Speed Plot"
   ]
  },
  {
   "cell_type": "code",
   "execution_count": 8,
   "metadata": {},
   "outputs": [
    {
     "data": {
      "image/png": "[encoded data removed]",
      "text/plain": [
       "<Figure size 432x288 with 1 Axes>"
      ]
     },
     "metadata": {
      "needs_background": "light"
     },
     "output_type": "display_data"
    }
   ],
   "source": [
    "x_values = cityWeatherDF['Lat']\n",
    "y_values = cityWeatherDF['WindSpeed']\n",
    "plt.scatter(x_values,y_values)\n",
    "plt.xlabel('Latitude')\n",
    "plt.ylabel('Wind Speed (MPH)')\n",
    "plt.title('Latitude vs Wind Speed 1/18/2020')\n",
    "plt.show()"
   ]
  },
  {
   "cell_type": "markdown",
   "metadata": {},
   "source": [
    "## Linear Regression"
   ]
  },
  {
   "cell_type": "code",
   "execution_count": 9,
   "metadata": {},
   "outputs": [],
   "source": [
    "# OPTIONAL: Create a function to create Linear Regression plots\n"
   ]
  },
  {
   "cell_type": "code",
   "execution_count": 9,
   "metadata": {},
   "outputs": [
    {
     "data": {
      "text/html": [
       "<div>\n",
       "<style scoped>\n",
       "    .dataframe tbody tr th:only-of-type {\n",
       "        vertical-align: middle;\n",
       "    }\n",
       "\n",
       "    .dataframe tbody tr th {\n",
       "        vertical-align: top;\n",
       "    }\n",
       "\n",
       "    .dataframe thead th {\n",
       "        text-align: right;\n",
       "    }\n",
       "</style>\n",
       "<table border=\"1\" class=\"dataframe\">\n",
       "  <thead>\n",
       "    <tr style=\"text-align: right;\">\n",
       "      <th></th>\n",
       "      <th>CityID</th>\n",
       "      <th>CityName</th>\n",
       "      <th>Lat</th>\n",
       "      <th>Temperature</th>\n",
       "      <th>MaxTemp</th>\n",
       "      <th>Humidity</th>\n",
       "      <th>Cloudiness</th>\n",
       "      <th>WindSpeed</th>\n",
       "    </tr>\n",
       "  </thead>\n",
       "  <tbody>\n",
       "    <tr>\n",
       "      <td>0</td>\n",
       "      <td>1282256</td>\n",
       "      <td>Hithadhoo</td>\n",
       "      <td>-0.60</td>\n",
       "      <td>83.16</td>\n",
       "      <td>83.16</td>\n",
       "      <td>75</td>\n",
       "      <td>10</td>\n",
       "      <td>8.39</td>\n",
       "    </tr>\n",
       "    <tr>\n",
       "      <td>2</td>\n",
       "      <td>2094342</td>\n",
       "      <td>Kavieng</td>\n",
       "      <td>-2.57</td>\n",
       "      <td>84.07</td>\n",
       "      <td>84.07</td>\n",
       "      <td>75</td>\n",
       "      <td>29</td>\n",
       "      <td>21.21</td>\n",
       "    </tr>\n",
       "    <tr>\n",
       "      <td>3</td>\n",
       "      <td>3369157</td>\n",
       "      <td>Cape Town</td>\n",
       "      <td>-33.93</td>\n",
       "      <td>68.00</td>\n",
       "      <td>69.01</td>\n",
       "      <td>64</td>\n",
       "      <td>75</td>\n",
       "      <td>20.80</td>\n",
       "    </tr>\n",
       "    <tr>\n",
       "      <td>4</td>\n",
       "      <td>933995</td>\n",
       "      <td>Souillac</td>\n",
       "      <td>-20.52</td>\n",
       "      <td>80.80</td>\n",
       "      <td>81.00</td>\n",
       "      <td>88</td>\n",
       "      <td>40</td>\n",
       "      <td>3.36</td>\n",
       "    </tr>\n",
       "    <tr>\n",
       "      <td>7</td>\n",
       "      <td>1048364</td>\n",
       "      <td>Chokwe</td>\n",
       "      <td>-24.53</td>\n",
       "      <td>74.70</td>\n",
       "      <td>74.70</td>\n",
       "      <td>90</td>\n",
       "      <td>95</td>\n",
       "      <td>16.60</td>\n",
       "    </tr>\n",
       "    <tr>\n",
       "      <td>...</td>\n",
       "      <td>...</td>\n",
       "      <td>...</td>\n",
       "      <td>...</td>\n",
       "      <td>...</td>\n",
       "      <td>...</td>\n",
       "      <td>...</td>\n",
       "      <td>...</td>\n",
       "      <td>...</td>\n",
       "    </tr>\n",
       "    <tr>\n",
       "      <td>560</td>\n",
       "      <td>997140</td>\n",
       "      <td>Heilbron</td>\n",
       "      <td>-27.28</td>\n",
       "      <td>62.71</td>\n",
       "      <td>62.71</td>\n",
       "      <td>78</td>\n",
       "      <td>45</td>\n",
       "      <td>21.39</td>\n",
       "    </tr>\n",
       "    <tr>\n",
       "      <td>564</td>\n",
       "      <td>3401548</td>\n",
       "      <td>Crateus</td>\n",
       "      <td>-5.18</td>\n",
       "      <td>88.47</td>\n",
       "      <td>88.47</td>\n",
       "      <td>49</td>\n",
       "      <td>97</td>\n",
       "      <td>7.16</td>\n",
       "    </tr>\n",
       "    <tr>\n",
       "      <td>566</td>\n",
       "      <td>2132606</td>\n",
       "      <td>Samarai</td>\n",
       "      <td>-10.62</td>\n",
       "      <td>77.50</td>\n",
       "      <td>77.50</td>\n",
       "      <td>82</td>\n",
       "      <td>96</td>\n",
       "      <td>3.53</td>\n",
       "    </tr>\n",
       "    <tr>\n",
       "      <td>567</td>\n",
       "      <td>8079926</td>\n",
       "      <td>Labuhan</td>\n",
       "      <td>-6.88</td>\n",
       "      <td>75.47</td>\n",
       "      <td>75.47</td>\n",
       "      <td>87</td>\n",
       "      <td>100</td>\n",
       "      <td>3.49</td>\n",
       "    </tr>\n",
       "    <tr>\n",
       "      <td>573</td>\n",
       "      <td>3870282</td>\n",
       "      <td>Talcahuano</td>\n",
       "      <td>-36.72</td>\n",
       "      <td>68.00</td>\n",
       "      <td>68.00</td>\n",
       "      <td>64</td>\n",
       "      <td>63</td>\n",
       "      <td>11.41</td>\n",
       "    </tr>\n",
       "  </tbody>\n",
       "</table>\n",
       "<p>183 rows × 8 columns</p>\n",
       "</div>"
      ],
      "text/plain": [
       "      CityID    CityName    Lat  Temperature  MaxTemp  Humidity  Cloudiness  \\\n",
       "0    1282256   Hithadhoo  -0.60        83.16    83.16        75          10   \n",
       "2    2094342     Kavieng  -2.57        84.07    84.07        75          29   \n",
       "3    3369157   Cape Town -33.93        68.00    69.01        64          75   \n",
       "4     933995    Souillac -20.52        80.80    81.00        88          40   \n",
       "7    1048364      Chokwe -24.53        74.70    74.70        90          95   \n",
       "..       ...         ...    ...          ...      ...       ...         ...   \n",
       "560   997140    Heilbron -27.28        62.71    62.71        78          45   \n",
       "564  3401548     Crateus  -5.18        88.47    88.47        49          97   \n",
       "566  2132606     Samarai -10.62        77.50    77.50        82          96   \n",
       "567  8079926     Labuhan  -6.88        75.47    75.47        87         100   \n",
       "573  3870282  Talcahuano -36.72        68.00    68.00        64          63   \n",
       "\n",
       "     WindSpeed  \n",
       "0         8.39  \n",
       "2        21.21  \n",
       "3        20.80  \n",
       "4         3.36  \n",
       "7        16.60  \n",
       "..         ...  \n",
       "560      21.39  \n",
       "564       7.16  \n",
       "566       3.53  \n",
       "567       3.49  \n",
       "573      11.41  \n",
       "\n",
       "[183 rows x 8 columns]"
      ]
     },
     "execution_count": 9,
     "metadata": {},
     "output_type": "execute_result"
    }
   ],
   "source": [
    "# Create Northern and Southern Hemisphere DataFrames\n",
    "northSideDF = cityWeatherDF[cityWeatherDF['Lat'] > 0]\n",
    "southSideDF = cityWeatherDF[cityWeatherDF['Lat'] < 0]\n",
    "southSideDF\n"
   ]
  },
  {
   "cell_type": "markdown",
   "metadata": {},
   "source": [
    "####  Northern Hemisphere - Max Temp vs. Latitude Linear Regression"
   ]
  },
  {
   "cell_type": "code",
   "execution_count": 10,
   "metadata": {},
   "outputs": [
    {
     "name": "stdout",
     "output_type": "stream",
     "text": [
      "The r-squared is: 0.7412138911626893\n"
     ]
    },
    {
     "data": {
      "image/png": "[encoded data removed]",
      "text/plain": [
       "<Figure size 432x288 with 1 Axes>"
      ]
     },
     "metadata": {
      "needs_background": "light"
     },
     "output_type": "display_data"
    }
   ],
   "source": [
    "x_values = northSideDF['Lat']\n",
    "y_values = northSideDF['MaxTemp']\n",
    "\n",
    "# Perform a linear regression on Max Temperature vs. latitude\n",
    "(slope, intercept, rvalue, pvalue, stderr) = linregress(x_values, y_values)\n",
    "\n",
    "# Get regression values\n",
    "regress_values = x_values * slope + intercept\n",
    "\n",
    "line_eq = \"y = \" + str(round(slope,2)) + \"x +\" + str(round(intercept,2))\n",
    "\n",
    "plt.scatter(x_values,y_values)\n",
    "plt.plot(x_values,regress_values,\"r-\")\n",
    "\n",
    "# Label plot and annotate the line equation\n",
    "plt.xlabel('Latitude')\n",
    "plt.ylabel('Max Temperature (F)')\n",
    "plt.annotate(line_eq,(0,15),fontsize=15,color=\"red\")\n",
    "\n",
    "# Print r square value\n",
    "print(f\"The r-squared is: {rvalue*rvalue}\")\n",
    "\n",
    "# Show plot\n",
    "plt.show()"
   ]
  },
  {
   "cell_type": "markdown",
   "metadata": {},
   "source": [
    "####  Southern Hemisphere - Max Temp vs. Latitude Linear Regression"
   ]
  },
  {
   "cell_type": "code",
   "execution_count": 15,
   "metadata": {},
   "outputs": [
    {
     "name": "stdout",
     "output_type": "stream",
     "text": [
      "y = 0.32x +82.21\n",
      "The r-squared is: 0.19145898305256345\n"
     ]
    },
    {
     "data": {
      "image/png": "[encoded data removed]",
      "text/plain": [
       "<Figure size 432x288 with 1 Axes>"
      ]
     },
     "metadata": {
      "needs_background": "light"
     },
     "output_type": "display_data"
    }
   ],
   "source": [
    "x_values = southSideDF['Lat']\n",
    "y_values = southSideDF['MaxTemp']\n",
    "\n",
    "# Perform a linear regression on Max Temperature vs. latitude\n",
    "(slope, intercept, rvalue, pvalue, stderr) = linregress(x_values, y_values)\n",
    "\n",
    "# Get regression values\n",
    "regress_values = x_values * slope + intercept\n",
    "\n",
    "line_eq = \"y = \" + str(round(slope,2)) + \"x +\" + str(round(intercept,2))\n",
    "print(line_eq)\n",
    "plt.scatter(x_values,y_values)\n",
    "plt.plot(x_values,regress_values,\"r-\")\n",
    "\n",
    "# Label plot and annotate the line equation\n",
    "plt.xlabel('Latitude')\n",
    "plt.ylabel('Max Temperature (F)')\n",
    "plt.annotate(line_eq,(-30,60),fontsize=15,color=\"red\")\n",
    "\n",
    "# Print r square value\n",
    "print(f\"The r-squared is: {rvalue*rvalue}\")\n",
    "\n",
    "# Show plot\n",
    "plt.show()"
   ]
  },
  {
   "cell_type": "markdown",
   "metadata": {},
   "source": [
    "####  Northern Hemisphere - Humidity (%) vs. Latitude Linear Regression"
   ]
  },
  {
   "cell_type": "code",
   "execution_count": 16,
   "metadata": {},
   "outputs": [
    {
     "name": "stdout",
     "output_type": "stream",
     "text": [
      "y = 0.47x +53.3\n",
      "The r-squared is: 0.20213903634135488\n"
     ]
    },
    {
     "data": {
      "image/png": "[encoded data removed]",
      "text/plain": [
       "<Figure size 432x288 with 1 Axes>"
      ]
     },
     "metadata": {
      "needs_background": "light"
     },
     "output_type": "display_data"
    }
   ],
   "source": [
    "x_values = northSideDF['Lat']\n",
    "y_values = northSideDF['Humidity']\n",
    "\n",
    "# Perform a linear regression on Max Temperature vs. latitude\n",
    "(slope, intercept, rvalue, pvalue, stderr) = linregress(x_values, y_values)\n",
    "\n",
    "# Get regression values\n",
    "regress_values = x_values * slope + intercept\n",
    "\n",
    "line_eq = \"y = \" + str(round(slope,2)) + \"x +\" + str(round(intercept,2))\n",
    "print(line_eq)\n",
    "plt.scatter(x_values,y_values)\n",
    "plt.plot(x_values,regress_values,\"r-\")\n",
    "\n",
    "# Label plot and annotate the line equation\n",
    "plt.xlabel('Latitude')\n",
    "plt.ylabel('Max Temperature (F)')\n",
    "plt.annotate(line_eq,(45,25),fontsize=15,color=\"red\")\n",
    "\n",
    "# Print r square value\n",
    "print(f\"The r-squared is: {rvalue*rvalue}\")\n",
    "\n",
    "# Show plot\n",
    "plt.show()"
   ]
  },
  {
   "cell_type": "markdown",
   "metadata": {},
   "source": [
    "####  Southern Hemisphere - Humidity (%) vs. Latitude Linear Regression"
   ]
  },
  {
   "cell_type": "code",
   "execution_count": 17,
   "metadata": {},
   "outputs": [
    {
     "name": "stdout",
     "output_type": "stream",
     "text": [
      "y = 0.23x +79.98\n",
      "The r-squared is: 0.026472528214930725\n"
     ]
    },
    {
     "data": {
      "image/png": "[encoded data removed]",
      "text/plain": [
       "<Figure size 432x288 with 1 Axes>"
      ]
     },
     "metadata": {
      "needs_background": "light"
     },
     "output_type": "display_data"
    }
   ],
   "source": [
    "x_values = southSideDF['Lat']\n",
    "y_values = southSideDF['Humidity']\n",
    "\n",
    "# Perform a linear regression on Max Temperature vs. latitude\n",
    "(slope, intercept, rvalue, pvalue, stderr) = linregress(x_values, y_values)\n",
    "\n",
    "# Get regression values\n",
    "regress_values = x_values * slope + intercept\n",
    "\n",
    "line_eq = \"y = \" + str(round(slope,2)) + \"x +\" + str(round(intercept,2))\n",
    "print(line_eq)\n",
    "plt.scatter(x_values,y_values)\n",
    "plt.plot(x_values,regress_values,\"r-\")\n",
    "\n",
    "# Label plot and annotate the line equation\n",
    "plt.xlabel('Latitude')\n",
    "plt.ylabel('Max Temperature (F)')\n",
    "plt.annotate(line_eq,(-40,30),fontsize=15,color=\"red\")\n",
    "\n",
    "# Print r square value\n",
    "print(f\"The r-squared is: {rvalue*rvalue}\")\n",
    "\n",
    "# Show plot\n",
    "plt.show()"
   ]
  },
  {
   "cell_type": "markdown",
   "metadata": {},
   "source": [
    "####  Northern Hemisphere - Cloudiness (%) vs. Latitude Linear Regression"
   ]
  },
  {
   "cell_type": "code",
   "execution_count": 18,
   "metadata": {},
   "outputs": [
    {
     "name": "stdout",
     "output_type": "stream",
     "text": [
      "y = 0.59x +24.7\n",
      "The r-squared is: 0.095975274861359\n"
     ]
    },
    {
     "data": {
      "image/png": "[encoded data removed]",
      "text/plain": [
       "<Figure size 432x288 with 1 Axes>"
      ]
     },
     "metadata": {
      "needs_background": "light"
     },
     "output_type": "display_data"
    }
   ],
   "source": [
    "x_values = northSideDF['Lat']\n",
    "y_values = northSideDF['Cloudiness']\n",
    "\n",
    "# Perform a linear regression on Max Temperature vs. latitude\n",
    "(slope, intercept, rvalue, pvalue, stderr) = linregress(x_values, y_values)\n",
    "\n",
    "# Get regression values\n",
    "regress_values = x_values * slope + intercept\n",
    "\n",
    "line_eq = \"y = \" + str(round(slope,2)) + \"x +\" + str(round(intercept,2))\n",
    "print(line_eq)\n",
    "plt.scatter(x_values,y_values)\n",
    "plt.plot(x_values,regress_values,\"r-\")\n",
    "\n",
    "# Label plot and annotate the line equation\n",
    "plt.xlabel('Latitude')\n",
    "plt.ylabel('Cloudiness %')\n",
    "plt.annotate(line_eq,(45,25),fontsize=15,color=\"red\")\n",
    "\n",
    "# Print r square value\n",
    "print(f\"The r-squared is: {rvalue*rvalue}\")\n",
    "\n",
    "# Show plot\n",
    "plt.show()"
   ]
  },
  {
   "cell_type": "markdown",
   "metadata": {},
   "source": [
    "####  Southern Hemisphere - Cloudiness (%) vs. Latitude Linear Regression"
   ]
  },
  {
   "cell_type": "code",
   "execution_count": 20,
   "metadata": {},
   "outputs": [
    {
     "name": "stdout",
     "output_type": "stream",
     "text": [
      "y = 0.06x +55.72\n",
      "The r-squared is: 0.0006506363354433763\n"
     ]
    },
    {
     "data": {
      "image/png": "[encoded data removed]",
      "text/plain": [
       "<Figure size 432x288 with 1 Axes>"
      ]
     },
     "metadata": {
      "needs_background": "light"
     },
     "output_type": "display_data"
    }
   ],
   "source": [
    "x_values = southSideDF['Lat']\n",
    "y_values = southSideDF['Cloudiness']\n",
    "\n",
    "# Perform a linear regression on Max Temperature vs. latitude\n",
    "(slope, intercept, rvalue, pvalue, stderr) = linregress(x_values, y_values)\n",
    "\n",
    "# Get regression values\n",
    "regress_values = x_values * slope + intercept\n",
    "\n",
    "line_eq = \"y = \" + str(round(slope,2)) + \"x +\" + str(round(intercept,2))\n",
    "print(line_eq)\n",
    "plt.scatter(x_values,y_values)\n",
    "plt.plot(x_values,regress_values,\"r-\")\n",
    "\n",
    "# Label plot and annotate the line equation\n",
    "plt.xlabel('Latitude')\n",
    "plt.ylabel('Cloudiness %')\n",
    "plt.annotate(line_eq,(-50,10),fontsize=15,color=\"red\")\n",
    "\n",
    "# Print r square value\n",
    "print(f\"The r-squared is: {rvalue*rvalue}\")\n",
    "\n",
    "# Show plot\n",
    "plt.show()"
   ]
  },
  {
   "cell_type": "markdown",
   "metadata": {},
   "source": [
    "####  Northern Hemisphere - Wind Speed (mph) vs. Latitude Linear Regression"
   ]
  },
  {
   "cell_type": "code",
   "execution_count": 21,
   "metadata": {},
   "outputs": [
    {
     "name": "stdout",
     "output_type": "stream",
     "text": [
      "y = 0.03x +7.89\n",
      "The r-squared is: 0.009416651242422528\n"
     ]
    },
    {
     "data": {
      "image/png": "[encoded data removed]",
      "text/plain": [
       "<Figure size 432x288 with 1 Axes>"
      ]
     },
     "metadata": {
      "needs_background": "light"
     },
     "output_type": "display_data"
    }
   ],
   "source": [
    "x_values = northSideDF['Lat']\n",
    "y_values = northSideDF['WindSpeed']\n",
    "\n",
    "# Perform a linear regression on Max Temperature vs. latitude\n",
    "(slope, intercept, rvalue, pvalue, stderr) = linregress(x_values, y_values)\n",
    "\n",
    "# Get regression values\n",
    "regress_values = x_values * slope + intercept\n",
    "\n",
    "line_eq = \"y = \" + str(round(slope,2)) + \"x +\" + str(round(intercept,2))\n",
    "print(line_eq)\n",
    "plt.scatter(x_values,y_values)\n",
    "plt.plot(x_values,regress_values,\"r-\")\n",
    "\n",
    "# Label plot and annotate the line equation\n",
    "plt.xlabel('Latitude')\n",
    "plt.ylabel('Wind Speed (MPH)')\n",
    "plt.annotate(line_eq,(45,25),fontsize=15,color=\"red\")\n",
    "\n",
    "# Print r square value\n",
    "print(f\"The r-squared is: {rvalue*rvalue}\")\n",
    "\n",
    "# Show plot\n",
    "plt.show()"
   ]
  },
  {
   "cell_type": "markdown",
   "metadata": {},
   "source": [
    "####  Southern Hemisphere - Wind Speed (mph) vs. Latitude Linear Regression"
   ]
  },
  {
   "cell_type": "code",
   "execution_count": 23,
   "metadata": {},
   "outputs": [
    {
     "name": "stdout",
     "output_type": "stream",
     "text": [
      "y = -0.1x +7.0\n",
      "The r-squared is: 0.04274909975041486\n"
     ]
    },
    {
     "data": {
      "image/png": "[encoded data removed]",
      "text/plain": [
       "<Figure size 432x288 with 1 Axes>"
      ]
     },
     "metadata": {
      "needs_background": "light"
     },
     "output_type": "display_data"
    }
   ],
   "source": [
    "x_values = southSideDF['Lat']\n",
    "y_values = southSideDF['WindSpeed']\n",
    "\n",
    "# Perform a linear regression on Max Temperature vs. latitude\n",
    "(slope, intercept, rvalue, pvalue, stderr) = linregress(x_values, y_values)\n",
    "\n",
    "# Get regression values\n",
    "regress_values = x_values * slope + intercept\n",
    "\n",
    "line_eq = \"y = \" + str(round(slope,2)) + \"x +\" + str(round(intercept,2))\n",
    "print(line_eq)\n",
    "plt.scatter(x_values,y_values)\n",
    "plt.plot(x_values,regress_values,\"r-\")\n",
    "\n",
    "# Label plot and annotate the line equation\n",
    "plt.xlabel('Latitude')\n",
    "plt.ylabel('Wind Speed (MPH)')\n",
    "plt.annotate(line_eq,(-30,25),fontsize=15,color=\"red\")\n",
    "\n",
    "# Print r square value\n",
    "print(f\"The r-squared is: {rvalue*rvalue}\")\n",
    "\n",
    "# Show plot\n",
    "plt.show()"
   ]
  }
 ],
 "metadata": {
  "anaconda-cloud": {},
  "kernel_info": {
   "name": "python3"
  },
  "kernelspec": {
   "display_name": "Python 3",
   "language": "python",
   "name": "python3"
  },
  "language_info": {
   "codemirror_mode": {
    "name": "ipython",
    "version": 3
   },
   "file_extension": ".py",
   "mimetype": "text/x-python",
   "name": "python",
   "nbconvert_exporter": "python",
   "pygments_lexer": "ipython3",
   "version": "3.7.4"
  },
  "latex_envs": {
   "LaTeX_envs_menu_present": true,
   "autoclose": false,
   "autocomplete": true,
   "bibliofile": "biblio.bib",
   "cite_by": "apalike",
   "current_citInitial": 1,
   "eqLabelWithNumbers": true,
   "eqNumInitial": 1,
   "hotkeys": {
    "equation": "Ctrl-E",
    "itemize": "Ctrl-I"
   },
   "labels_anchors": false,
   "latex_user_defs": false,
   "report_style_numbering": false,
   "user_envs_cfg": false
  },
  "nteract": {
   "version": "0.12.3"
  }
 },
 "nbformat": 4,
 "nbformat_minor": 2
}
