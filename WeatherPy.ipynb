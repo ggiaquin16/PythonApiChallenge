{
 "cells": [
  {
   "cell_type": "markdown",
   "metadata": {},
   "source": [
    "# WeatherPy\n",
    "----\n",
    "\n",
    "#### Note\n",
    "* Instructions have been included for each segment. You do not have to follow them exactly, but they are included to help you think through the steps."
   ]
  },
  {
   "cell_type": "code",
   "execution_count": 1,
   "metadata": {
    "scrolled": true
   },
   "outputs": [],
   "source": [
    "# Dependencies and Setup\n",
    "import matplotlib.pyplot as plt\n",
    "import pandas as pd\n",
    "import numpy as np\n",
    "import requests\n",
    "import time\n",
    "import csv\n",
    "from scipy.stats import linregress\n",
    "\n",
    "# Import API key\n",
    "from api_keys import weather_api_key\n",
    "\n",
    "# Incorporated citipy to determine city based on latitude and longitude\n",
    "from citipy import citipy\n",
    "\n",
    "# Output File (CSV)\n",
    "output_data_file = \"output_data/cities.csv\"\n",
    "\n",
    "# Range of latitudes and longitudes\n",
    "lat_range = (-90, 90)\n",
    "lng_range = (-180, 180)"
   ]
  },
  {
   "cell_type": "markdown",
   "metadata": {},
   "source": [
    "## Generate Cities List"
   ]
  },
  {
   "cell_type": "code",
   "execution_count": 2,
   "metadata": {},
   "outputs": [
    {
     "data": {
      "text/plain": [
       "614"
      ]
     },
     "execution_count": 2,
     "metadata": {},
     "output_type": "execute_result"
    }
   ],
   "source": [
    "# List for holding lat_lngs and cities\n",
    "lat_lngs = []\n",
    "cities = []\n",
    "\n",
    "# Create a set of random lat and lng combinations\n",
    "lats = np.random.uniform(low=-90.000, high=90.000, size=1500)\n",
    "lngs = np.random.uniform(low=-180.000, high=180.000, size=1500)\n",
    "lat_lngs = zip(lats, lngs)\n",
    "\n",
    "# Identify nearest city for each lat, lng combination\n",
    "for lat_lng in lat_lngs:\n",
    "    city = citipy.nearest_city(lat_lng[0], lat_lng[1]).city_name\n",
    "    \n",
    "    # If the city is unique, then add it to a our cities list\n",
    "    if city not in cities:\n",
    "        cities.append(city)\n",
    "\n",
    "# Print the city count to confirm sufficient count\n",
    "len(cities)"
   ]
  },
  {
   "cell_type": "markdown",
   "metadata": {},
   "source": [
    "### Perform API Calls\n",
    "* Perform a weather check on each city using a series of successive API calls.\n",
    "* Include a print log of each city as it'sbeing processed (with the city number and city name).\n"
   ]
  },
  {
   "cell_type": "code",
   "execution_count": 29,
   "metadata": {},
   "outputs": [
    {
     "name": "stdout",
     "output_type": "stream",
     "text": [
      "processing record hithadhoo, MV ID: 1282256\n",
      "skipping city\n",
      "processing record lavrentiya, RU ID: 4031637\n",
      "processing record kavieng, PG ID: 2094342\n",
      "processing record cape town, ZA ID: 3369157\n",
      "processing record souillac, MU ID: 933995\n",
      "processing record sistranda, NO ID: 3139597\n",
      "processing record uribia, CO ID: 3666409\n",
      "processing record chokwe, MZ ID: 1048364\n",
      "processing record san patricio, MX ID: 3985168\n",
      "processing record ostersund, SE ID: 2685750\n",
      "processing record namioka, JP ID: 2129005\n",
      "processing record victoria, HK ID: 1819729\n",
      "processing record iquique, CL ID: 3887127\n",
      "processing record hermanus, ZA ID: 3366880\n",
      "processing record hobart, AU ID: 2163355\n",
      "processing record mount gambier, AU ID: 2156643\n",
      "processing record saskylakh, RU ID: 2017155\n",
      "processing record gat, IL ID: 293842\n",
      "processing record vaini, TO ID: 4032243\n",
      "processing record port alfred, ZA ID: 964432\n",
      "processing record kapaa, US ID: 5848280\n",
      "processing record mahebourg, MU ID: 934322\n",
      "processing record bubaque, GW ID: 2374583\n",
      "processing record richards bay, ZA ID: 962367\n",
      "processing record punta arenas, CL ID: 3874787\n",
      "processing record rikitea, PF ID: 4030556\n",
      "processing record vestmannaeyjar, IS ID: 3412093\n",
      "processing record bhojudih, IN ID: 1275866\n",
      "processing record ushuaia, AR ID: 3833367\n",
      "processing record shancheng, CN ID: 1795919\n",
      "processing record airai, TL ID: 1651810\n",
      "processing record mataura, NZ ID: 6201424\n",
      "processing record alenquer, BR ID: 3407980\n",
      "processing record cherskiy, RU ID: 2126199\n",
      "processing record pemangkat, ID ID: 1631637\n",
      "skipping city\n",
      "processing record kaeo, NZ ID: 2189343\n",
      "processing record raudeberg, NO ID: 3146487\n",
      "skipping city\n",
      "processing record saint-pierre, RE ID: 935214\n",
      "processing record port elizabeth, ZA ID: 964420\n",
      "skipping city\n",
      "processing record klaksvik, FO ID: 2618795\n",
      "processing record nikolskoye, RU ID: 546105\n",
      "processing record ilulissat, GL ID: 3423146\n",
      "processing record brae, GB ID: 2654970\n",
      "processing record puerto ayora, EC ID: 3652764\n",
      "processing record hilo, US ID: 5855927\n",
      "processing record bundaberg, AU ID: 2173323\n",
      "processing record albany, US ID: 5106841\n",
      "processing record georgetown, MY ID: 1735106\n",
      "processing record ambilobe, MG ID: 1082243\n",
      "skipping city\n",
      "processing record esperance, AU ID: 2071860\n",
      "processing record busselton, AU ID: 2075265\n",
      "processing record luderitz, NA ID: 3355672\n",
      "skipping city\n",
      "processing record svetlyy, RU ID: 485660\n",
      "skipping city\n",
      "processing record bilma, NE ID: 2446796\n",
      "processing record ngunguru, NZ ID: 2186111\n",
      "processing record yerbogachen, RU ID: 2012956\n",
      "processing record yellowknife, CA ID: 6185377\n",
      "processing record khorixas, NA ID: 3356213\n",
      "processing record san miguel de cauri, PE ID: 3929389\n",
      "processing record ust-maya, RU ID: 2013918\n",
      "skipping city\n",
      "processing record puerto baquerizo moreno, EC ID: 3652758\n",
      "processing record saint george, US ID: 5546220\n",
      "processing record ancud, CL ID: 3899695\n",
      "processing record waipawa, NZ ID: 2206874\n",
      "processing record butaritari, KI ID: 2110227\n",
      "processing record east london, ZA ID: 1006984\n",
      "processing record denpasar, ID ID: 1645528\n",
      "processing record yeppoon, AU ID: 2142316\n",
      "processing record faanui, PF ID: 4034551\n",
      "processing record kimbe, PG ID: 2093967\n",
      "processing record bethel, US ID: 5282297\n",
      "processing record atuona, PF ID: 4020109\n",
      "processing record harer, ET ID: 335035\n",
      "processing record lata, PT ID: 2738381\n",
      "processing record iberia, US ID: 4328254\n",
      "processing record kodiak, US ID: 5866583\n",
      "processing record dikson, RU ID: 1507390\n",
      "processing record high level, CA ID: 5975004\n",
      "processing record srednekolymsk, RU ID: 2121025\n",
      "skipping city\n",
      "processing record jamestown, US ID: 5122534\n",
      "processing record makakilo city, US ID: 5850554\n",
      "skipping city\n",
      "processing record quatre cocos, MU ID: 1106643\n",
      "processing record surab, PK ID: 1164306\n",
      "processing record castro, BR ID: 3466704\n",
      "processing record mosquera, CO ID: 3674292\n",
      "processing record puerto colombia, CO ID: 3671497\n",
      "processing record concordia, AR ID: 3435261\n",
      "processing record alofi, NU ID: 4036284\n",
      "processing record tautira, PF ID: 4033557\n",
      "processing record pevek, RU ID: 2122090\n",
      "processing record pangody, RU ID: 1495626\n",
      "processing record sorland, NO ID: 3137469\n",
      "processing record waupun, US ID: 5278106\n",
      "processing record amaraji, BR ID: 3407758\n",
      "processing record avarua, CK ID: 4035715\n",
      "processing record boulder city, US ID: 5500539\n",
      "skipping city\n",
      "processing record coquimbo, CL ID: 3893629\n",
      "processing record saint-augustin, CA ID: 6137462\n",
      "processing record vila franca do campo, PT ID: 3372472\n",
      "processing record torbay, CA ID: 6167817\n",
      "skipping city\n",
      "processing record bluff, NZ ID: 2206939\n",
      "processing record deputatskiy, RU ID: 2028164\n",
      "processing record lebu, CL ID: 3883457\n",
      "processing record laguna, US ID: 5364271\n",
      "processing record tuktoyaktuk, CA ID: 6170031\n",
      "processing record christchurch, NZ ID: 2192362\n",
      "processing record khonsa, IN ID: 1266668\n",
      "processing record clyde river, CA ID: 5924351\n",
      "processing record revda, RU ID: 502011\n",
      "processing record samoylovka, RU ID: 498956\n",
      "processing record anadyr, RU ID: 2127202\n",
      "skipping city\n",
      "skipping city\n",
      "processing record barrow, US ID: 5880054\n",
      "processing record iqaluit, CA ID: 5983720\n",
      "processing record necochea, AR ID: 3430443\n",
      "processing record bredasdorp, ZA ID: 1015776\n",
      "processing record cabo san lucas, MX ID: 3985710\n",
      "processing record jiazi, CN ID: 1805935\n",
      "processing record lompoc, US ID: 5367788\n",
      "processing record sisimiut, GL ID: 3419842\n",
      "processing record caucaia, BR ID: 3402429\n",
      "processing record nouakchott, MR ID: 2377450\n",
      "processing record nadym, RU ID: 1498087\n",
      "skipping city\n",
      "processing record tuatapere, NZ ID: 2180815\n",
      "processing record qaqortoq, GL ID: 3420846\n",
      "processing record estacion coahuila, MX ID: 3979494\n",
      "processing record chokurdakh, RU ID: 2126123\n",
      "processing record ahipara, NZ ID: 2194098\n",
      "processing record beringovskiy, RU ID: 2126710\n",
      "processing record yekimovichi, RU ID: 468116\n",
      "processing record kesova gora, RU ID: 550949\n",
      "processing record khatanga, RU ID: 2022572\n",
      "processing record dingle, PH ID: 1714733\n",
      "processing record vardo, NO ID: 777019\n",
      "processing record pisco, PE ID: 3932145\n",
      "processing record thompson, CA ID: 6165406\n",
      "processing record alice springs, AU ID: 2077895\n",
      "processing record tiksi, RU ID: 2015306\n",
      "processing record gushikawa, JP ID: 1863495\n",
      "processing record marfino, RU ID: 529368\n",
      "processing record saldanha, ZA ID: 3361934\n",
      "processing record baculin, PH ID: 1729469\n",
      "processing record cidreira, BR ID: 3466165\n",
      "processing record asau, RO ID: 686090\n",
      "processing record la ronge, CA ID: 6050066\n",
      "processing record chuy, UY ID: 3443061\n",
      "processing record zatoka, UA ID: 687557\n",
      "processing record mtwara, TZ ID: 877747\n",
      "processing record sakakah, SA ID: 102527\n",
      "processing record vila do maio, CV ID: 3374120\n",
      "processing record camana, PE ID: 3945985\n",
      "processing record ewa beach, US ID: 5855051\n",
      "processing record xam nua, LA ID: 1652203\n",
      "processing record mumbwa, ZM ID: 904422\n",
      "skipping city\n",
      "processing record qaanaaq, GL ID: 3831208\n",
      "processing record muli, MV ID: 1337617\n",
      "processing record shelton, US ID: 4842898\n",
      "processing record lagoa, PT ID: 3372964\n",
      "processing record danville, US ID: 4755280\n",
      "processing record new norfolk, AU ID: 2155415\n",
      "processing record requena, ES ID: 2511930\n",
      "processing record stolin, BY ID: 621277\n",
      "processing record vanimo, PG ID: 2084442\n",
      "processing record manuk mangkaw, PH ID: 1701394\n",
      "processing record karlshamn, SE ID: 2701727\n",
      "processing record jesus maria, AR ID: 3853510\n",
      "processing record tessalit, ML ID: 2449893\n",
      "processing record antofagasta, CL ID: 3899539\n",
      "processing record sitka, US ID: 5557293\n",
      "processing record tasiilaq, GL ID: 3424607\n",
      "processing record lorengau, PG ID: 2092164\n",
      "processing record kaohsiung, TW ID: 1673820\n",
      "processing record izmit, TR ID: 745028\n",
      "processing record provideniya, RU ID: 4031574\n",
      "skipping city\n",
      "processing record nara, JP ID: 1855612\n",
      "processing record shingu, JP ID: 1847947\n",
      "processing record hasaki, JP ID: 2112802\n",
      "processing record berlevag, NO ID: 780687\n",
      "processing record fukue, JP ID: 1863997\n",
      "processing record kundiawa, PG ID: 2093059\n",
      "processing record galesong, ID ID: 1644605\n",
      "processing record masindi, UG ID: 229362\n",
      "processing record ostrovnoy, RU ID: 556268\n",
      "processing record mnogovershinnyy, RU ID: 2019935\n",
      "processing record hofn, IS ID: 2630299\n",
      "processing record vilcun, CL ID: 3868210\n"
     ]
    },
    {
     "name": "stdout",
     "output_type": "stream",
     "text": [
      "processing record miramar, US ID: 4164601\n",
      "skipping city\n",
      "processing record codrington, AU ID: 2171099\n",
      "skipping city\n",
      "processing record ochamchira, GE ID: 612652\n",
      "processing record bambous virieux, MU ID: 1106677\n",
      "processing record batemans bay, AU ID: 2176639\n",
      "processing record makarska, HR ID: 3195890\n",
      "processing record takoradi, GH ID: 2294915\n",
      "processing record napier, NZ ID: 2186313\n",
      "processing record isangel, VU ID: 2136825\n",
      "processing record chake chake, TZ ID: 160677\n",
      "processing record peniche, PT ID: 2264923\n",
      "skipping city\n",
      "processing record abomsa, ET ID: 345704\n",
      "processing record upernavik, GL ID: 3418910\n",
      "processing record bereda, ES ID: 3105522\n",
      "processing record calvinia, ZA ID: 3369174\n",
      "processing record hami, CN ID: 1529484\n",
      "processing record cabra, ES ID: 2520645\n",
      "skipping city\n",
      "processing record faya, SA ID: 110690\n",
      "processing record kavaratti, IN ID: 1267390\n",
      "processing record talnakh, RU ID: 1490256\n",
      "processing record tura, IN ID: 1254046\n",
      "processing record edd, ER ID: 338345\n",
      "processing record axim, GH ID: 2303611\n",
      "processing record japura, ID ID: 1642773\n",
      "processing record gazli, UZ ID: 1513990\n",
      "processing record leningradskiy, RU ID: 2123814\n",
      "processing record tigil, RU ID: 2120612\n",
      "skipping city\n",
      "processing record berezyne, UA ID: 712349\n",
      "processing record athabasca, CA ID: 5887916\n",
      "processing record manokwari, ID ID: 1636308\n",
      "processing record elk plain, US ID: 5793609\n",
      "processing record mogzon, RU ID: 2019884\n",
      "processing record kendari, ID ID: 1640344\n",
      "processing record jalu, LY ID: 86049\n",
      "processing record padang, ID ID: 1633419\n",
      "processing record becerril, CO ID: 3689026\n",
      "processing record vao, NC ID: 2137773\n",
      "processing record asfi, MA ID: 2537881\n",
      "processing record tocopilla, CL ID: 3869716\n",
      "processing record bandarbeyla, SO ID: 64814\n",
      "processing record ornskoldsvik, SE ID: 2686469\n",
      "processing record batagay, RU ID: 2027044\n",
      "processing record narsaq, GL ID: 3421719\n",
      "processing record ponta do sol, PT ID: 2264557\n",
      "processing record fort nelson, CA ID: 5955902\n",
      "skipping city\n",
      "processing record port hedland, AU ID: 2063042\n",
      "processing record zabaykalsk, RU ID: 2012780\n",
      "processing record tiznit, MA ID: 2527087\n",
      "processing record great bend, US ID: 4272340\n",
      "processing record ribeira grande, PT ID: 3372707\n",
      "processing record nanortalik, GL ID: 3421765\n",
      "processing record itapirapua, BR ID: 3460697\n",
      "processing record guerrero negro, MX ID: 4021858\n",
      "processing record miandoab, IR ID: 124085\n",
      "processing record batagay-alyta, RU ID: 2027042\n",
      "processing record nadvoitsy, RU ID: 523662\n",
      "processing record inegol, TR ID: 745169\n",
      "processing record sao joao da barra, BR ID: 3448903\n",
      "processing record innisfail, AU ID: 2162683\n",
      "processing record hecelchakan, MX ID: 3527149\n",
      "processing record dedougou, BF ID: 2361477\n",
      "processing record zhicheng, CN ID: 1784554\n",
      "processing record esso, RU ID: 2125711\n",
      "processing record rio das ostras, BR ID: 3451205\n",
      "processing record fort myers beach, US ID: 4155996\n",
      "processing record longyearbyen, SJ ID: 2729907\n",
      "processing record laurel, US ID: 4360369\n",
      "processing record rawson, AR ID: 3839307\n",
      "processing record ouesso, CG ID: 2255564\n",
      "processing record wote, KE ID: 178077\n",
      "processing record rocha, UY ID: 3440777\n",
      "processing record carballo, ES ID: 3126369\n",
      "processing record grand-lahou, CI ID: 2288105\n",
      "processing record vegreville, CA ID: 6173635\n",
      "processing record carnarvon, AU ID: 2074865\n",
      "processing record arraial do cabo, BR ID: 3471451\n",
      "processing record severo-kurilsk, RU ID: 2121385\n",
      "processing record elko, US ID: 5703673\n",
      "processing record road town, VG ID: 3577430\n",
      "processing record omsukchan, RU ID: 2122493\n",
      "processing record aklavik, CA ID: 5882953\n",
      "skipping city\n",
      "processing record pochutla, MX ID: 3517970\n",
      "processing record antipino, RU ID: 1511538\n",
      "processing record tuzla, BA ID: 3188582\n",
      "processing record saint-philippe, RE ID: 935215\n",
      "processing record amapa, BR ID: 3407762\n",
      "processing record jojoima, SL ID: 2408399\n",
      "processing record gandajika, CD ID: 216449\n",
      "processing record mahajanga, MG ID: 1062663\n",
      "processing record sarab, IR ID: 126972\n",
      "processing record kindu, CD ID: 212902\n",
      "processing record cedar city, US ID: 5536630\n",
      "processing record te anau, NZ ID: 2181625\n",
      "processing record dhaulpur, IN ID: 1272805\n",
      "processing record prokuplje, RS ID: 786690\n",
      "processing record wanning, CN ID: 1791779\n",
      "processing record hualmay, PE ID: 3939761\n",
      "processing record valera, VE ID: 3625542\n",
      "processing record totoral, PE ID: 3927023\n",
      "processing record ibaiti, BR ID: 3461628\n",
      "processing record ishinomaki, JP ID: 2112576\n",
      "processing record vostok, RU ID: 2013279\n",
      "processing record cotonou, BJ ID: 2394819\n",
      "processing record bengkulu, ID ID: 1649150\n",
      "processing record znamenskoye, RU ID: 1485020\n",
      "processing record simbahan, PH ID: 1695180\n",
      "processing record tucuma, BR ID: 3385980\n",
      "processing record humberto de campos, BR ID: 3398428\n",
      "processing record jacareacanga, BR ID: 3397763\n",
      "processing record kenai, US ID: 5866063\n",
      "processing record puqi, CN ID: 1798473\n",
      "processing record san vicente de canete, PE ID: 3928993\n",
      "processing record cap malheureux, MU ID: 934649\n",
      "processing record vagur, FO ID: 2610806\n",
      "processing record creel, MX ID: 4012593\n",
      "processing record qasigiannguit, GL ID: 3420768\n",
      "processing record bastia, FR ID: 3034639\n",
      "processing record kungurtug, RU ID: 1501377\n",
      "skipping city\n",
      "processing record sunrise manor, US ID: 5513343\n",
      "processing record liverpool, GB ID: 2644210\n",
      "processing record puerto escondido, MX ID: 3520994\n",
      "processing record haines junction, CA ID: 5969025\n",
      "processing record erenhot, CN ID: 2037485\n",
      "processing record banposh, IN ID: 1277247\n",
      "processing record mar del plata, AR ID: 3430863\n",
      "processing record nguruka, TZ ID: 151567\n",
      "processing record namatanai, PG ID: 2090021\n",
      "processing record coria, ES ID: 2519234\n",
      "processing record kruisfontein, ZA ID: 986717\n",
      "processing record nuuk, GL ID: 3421319\n",
      "processing record marsh harbour, BS ID: 3571913\n",
      "processing record cockburn town, TC ID: 3576994\n",
      "processing record rio gallegos, AR ID: 3838859\n",
      "skipping city\n",
      "processing record pacific grove, US ID: 5380437\n",
      "processing record bolondron, CU ID: 3567082\n",
      "processing record port blair, IN ID: 1259385\n",
      "processing record college, US ID: 5859699\n",
      "processing record ajaccio, FR ID: 3038333\n",
      "processing record ito, JP ID: 1861290\n",
      "processing record kiunga, PG ID: 2093846\n",
      "skipping city\n",
      "processing record irtyshskiy, RU ID: 1505495\n",
      "processing record naron, ES ID: 3115739\n",
      "skipping city\n",
      "processing record araouane, ML ID: 2460954\n",
      "processing record kaitangata, NZ ID: 2208248\n",
      "processing record honiara, SB ID: 2108502\n",
      "processing record ust-karsk, RU ID: 2013942\n",
      "processing record santona, ES ID: 3109527\n",
      "processing record great falls, US ID: 5655240\n",
      "processing record sao filipe, CV ID: 3374210\n",
      "processing record cabedelo, BR ID: 3404558\n",
      "processing record shimoda, JP ID: 1852357\n",
      "skipping city\n",
      "processing record limulunga, ZM ID: 910361\n",
      "processing record ust-nera, RU ID: 2120048\n",
      "processing record farah, AF ID: 1142263\n",
      "processing record katav-ivanovsk, RU ID: 551794\n",
      "processing record margate, GB ID: 2643044\n",
      "processing record ozernovskiy, RU ID: 2122293\n",
      "processing record cheney, US ID: 5789856\n",
      "skipping city\n",
      "processing record vondrozo, MG ID: 1053507\n",
      "processing record una, IN ID: 1253783\n",
      "processing record makat, KZ ID: 608872\n",
      "processing record nome, US ID: 5870133\n",
      "processing record helsinki, FI ID: 658225\n",
      "processing record tawang, IN ID: 1254832\n",
      "processing record mmathubudukwane, BW ID: 933347\n",
      "processing record namibe, AO ID: 3347019\n",
      "processing record ambunti, PG ID: 2100933\n",
      "processing record aykhal, RU ID: 2027296\n",
      "processing record dwarka, IN ID: 1272140\n",
      "processing record cherdyn, RU ID: 569359\n",
      "processing record bayeux, BR ID: 3405940\n",
      "processing record gijon, ES ID: 3121424\n",
      "processing record bembereke, BJ ID: 2395182\n",
      "processing record sola, VU ID: 2134814\n",
      "processing record boguchany, RU ID: 1509844\n",
      "processing record moindou, NC ID: 2140466\n",
      "processing record nago, JP ID: 1856068\n",
      "processing record praxedis guerrero, MX ID: 3974771\n",
      "processing record khatassy, RU ID: 2022564\n",
      "processing record kijabe, KE ID: 192202\n",
      "processing record kalmunai, LK ID: 1242110\n",
      "processing record katherine, AU ID: 2068655\n",
      "processing record paso de carrasco, UY ID: 3441292\n",
      "processing record usinsk, RU ID: 863061\n",
      "processing record kadoshkino, RU ID: 554544\n",
      "processing record suhbaatar, MN ID: 2029156\n"
     ]
    },
    {
     "name": "stdout",
     "output_type": "stream",
     "text": [
      "processing record havre-saint-pierre, CA ID: 5972291\n",
      "processing record nouadhibou, MR ID: 2377457\n",
      "processing record kolpashevo, RU ID: 1502862\n",
      "processing record pangnirtung, CA ID: 6096551\n",
      "processing record huarmey, PE ID: 3939168\n",
      "processing record matara, LK ID: 1235846\n",
      "processing record harper, LR ID: 2276492\n",
      "processing record dicabisagan, PH ID: 1715015\n",
      "processing record igarka, RU ID: 1505991\n",
      "processing record dunedin, NZ ID: 2191562\n",
      "processing record paysandu, UY ID: 3441243\n",
      "processing record kahului, US ID: 5847411\n",
      "processing record manta, EC ID: 3654410\n",
      "processing record geraldton, AU ID: 2070998\n",
      "processing record abu dhabi, AE ID: 292968\n",
      "processing record dongsheng, CN ID: 1812256\n",
      "processing record kostomuksha, RU ID: 543899\n",
      "processing record salalah, OM ID: 286621\n",
      "processing record homer, US ID: 5864145\n",
      "processing record otradnoye, RU ID: 513898\n",
      "processing record hellin, ES ID: 2516797\n",
      "processing record meulaboh, ID ID: 1214488\n",
      "processing record nishihara, JP ID: 1855342\n",
      "processing record trinidad, BO ID: 3902377\n",
      "processing record lerwick, GB ID: 2644605\n",
      "processing record antalaha, MG ID: 1071296\n",
      "processing record takaungu, KE ID: 179634\n",
      "skipping city\n",
      "processing record morada nova, BR ID: 3394500\n",
      "processing record hudson bay, CA ID: 5978133\n",
      "processing record akyab, MM ID: 1295765\n",
      "processing record oktyabrskiy, RU ID: 515879\n",
      "processing record raton, US ID: 5486795\n",
      "processing record saravan, AM ID: 174726\n",
      "processing record bilibino, RU ID: 2126682\n",
      "processing record come, BJ ID: 2394824\n",
      "processing record diamantina, BR ID: 3464728\n",
      "processing record santiago del estero, AR ID: 3835869\n",
      "processing record garowe, SO ID: 58933\n",
      "processing record calama, CL ID: 3897347\n",
      "skipping city\n",
      "processing record fonte boa, BR ID: 6319315\n",
      "processing record yumen, CN ID: 1528998\n",
      "processing record plettenberg bay, ZA ID: 964712\n",
      "processing record banff, CA ID: 5892532\n",
      "processing record santa rosa, PH ID: 1687894\n",
      "processing record sayyan, YE ID: 70979\n",
      "processing record yaan, NG ID: 2338660\n",
      "processing record columbus, US ID: 4509177\n",
      "processing record abha, SA ID: 110690\n",
      "processing record fairbanks, US ID: 5861897\n",
      "processing record yulara, AU ID: 6355222\n",
      "skipping city\n",
      "processing record sijunjung, ID ID: 1627185\n",
      "processing record norman wells, CA ID: 6089245\n",
      "processing record osypenko, UA ID: 698316\n",
      "skipping city\n",
      "processing record iskateley, RU ID: 866062\n",
      "processing record korla, CN ID: 1529376\n",
      "processing record cururupu, BR ID: 3401148\n",
      "processing record dolores, AR ID: 3435038\n",
      "processing record podosinovets, RU ID: 508068\n",
      "processing record baykit, RU ID: 1510689\n",
      "processing record lakes entrance, AU ID: 2160735\n",
      "processing record tarko-sale, RU ID: 1490085\n",
      "processing record hurricane, US ID: 5540831\n",
      "processing record brigantine, US ID: 4500920\n",
      "processing record la rioja, ES ID: 3336897\n",
      "processing record biskamzha, RU ID: 1510030\n",
      "processing record belmonte, BR ID: 3470137\n",
      "processing record yar-sale, RU ID: 1486321\n",
      "processing record liling, CN ID: 1803616\n",
      "processing record rafaela, AR ID: 3839479\n",
      "processing record nuzvid, IN ID: 1261110\n",
      "processing record grand gaube, MU ID: 934479\n",
      "processing record mehamn, NO ID: 778707\n",
      "processing record bowen, AU ID: 2174444\n",
      "processing record wencheng, CN ID: 1791539\n",
      "processing record dhidhdhoo, MV ID: 1337612\n",
      "processing record atar, MR ID: 2381334\n",
      "processing record san andres, CO ID: 3670218\n",
      "processing record luganville, VU ID: 2136150\n",
      "processing record kibre mengist, ET ID: 333103\n",
      "processing record bolivar, US ID: 4377835\n",
      "processing record hamadan, IR ID: 132144\n",
      "processing record sur, OM ID: 286245\n",
      "processing record siwana, IN ID: 1255925\n",
      "skipping city\n",
      "processing record flinders, AU ID: 6255012\n",
      "processing record kaduqli, SD ID: 373141\n",
      "processing record praia, CV ID: 3374333\n",
      "processing record mount vernon, US ID: 5127835\n",
      "processing record parnarama, BR ID: 3392996\n",
      "processing record aasiaat, GL ID: 3424901\n",
      "processing record salinopolis, BR ID: 3389822\n",
      "processing record okoneshnikovo, RU ID: 1496329\n",
      "processing record forio, IT ID: 3176748\n",
      "processing record centralia, US ID: 5789683\n",
      "processing record kingaroy, AU ID: 2161376\n",
      "processing record jumla, NP ID: 1283285\n",
      "processing record suntar, RU ID: 2015913\n",
      "processing record fort morgan, US ID: 5577158\n",
      "processing record nogent-le-rotrou, FR ID: 2990271\n",
      "processing record nata, PA ID: 3703938\n",
      "processing record kudahuvadhoo, MV ID: 1337607\n",
      "processing record loandjili, CG ID: 2258378\n",
      "processing record bathsheba, BB ID: 3374083\n",
      "processing record mokrousovo, RU ID: 1498511\n",
      "processing record yerky, UA ID: 688127\n",
      "processing record guanare, VE ID: 3640226\n",
      "processing record arlit, NE ID: 2447513\n",
      "processing record aksaray, TR ID: 324496\n",
      "processing record okhotsk, RU ID: 2122605\n",
      "processing record melfi, IT ID: 3173615\n",
      "processing record pandan, PH ID: 1695546\n",
      "processing record mecca, SA ID: 104515\n",
      "processing record riyadh, SA ID: 108410\n",
      "processing record igrim, RU ID: 1505965\n",
      "processing record boaco, NI ID: 3620674\n",
      "processing record orocue, CO ID: 3673536\n",
      "processing record krasne, UA ID: 704277\n",
      "processing record estelle, US ID: 4323873\n",
      "processing record martil, MA ID: 2542987\n",
      "processing record ciudad bolivar, VE ID: 3645532\n",
      "processing record havoysund, NO ID: 779622\n",
      "processing record alyangula, AU ID: 2079582\n",
      "processing record buala, SB ID: 2109528\n",
      "processing record benalla, AU ID: 2176225\n",
      "skipping city\n",
      "processing record kirakira, SB ID: 2178753\n",
      "processing record dorsten, DE ID: 2935530\n",
      "processing record husavik, IS ID: 2629833\n",
      "processing record gigmoto, PH ID: 1712961\n",
      "processing record constitucion, CL ID: 3893726\n",
      "processing record toccoa, US ID: 4226722\n",
      "processing record darnah, LY ID: 87205\n",
      "processing record hue, VN ID: 1580240\n",
      "processing record clones, IE ID: 2965367\n",
      "processing record carutapera, BR ID: 3402648\n",
      "processing record ajdabiya, LY ID: 89113\n",
      "processing record ningxiang, CN ID: 1784239\n",
      "skipping city\n",
      "processing record wagar, SD ID: 364027\n",
      "processing record whitehorse, CA ID: 6180550\n",
      "processing record berbera, SO ID: 64435\n",
      "processing record hamilton, US ID: 4513583\n",
      "processing record ola, RU ID: 2122574\n",
      "processing record lotofaga, WS ID: 4035252\n",
      "processing record mexico, PH ID: 1699805\n",
      "processing record kununurra, AU ID: 2068110\n",
      "processing record messina, IT ID: 2524170\n",
      "processing record arica, CL ID: 3899361\n",
      "processing record kachiry, KZ ID: 1523662\n",
      "processing record itoman, JP ID: 1861280\n",
      "skipping city\n",
      "processing record veraval, IN ID: 1253237\n",
      "processing record daru, PG ID: 2098329\n",
      "processing record inuvik, CA ID: 5983607\n",
      "processing record colares, PT ID: 2269142\n",
      "processing record venice, US ID: 4176380\n",
      "processing record oyama, JP ID: 1853483\n",
      "processing record ileza, RU ID: 829291\n",
      "processing record bagotville, AU ID: 2177254\n",
      "processing record caceres, ES ID: 2520610\n",
      "processing record carbonia, IT ID: 2525362\n",
      "processing record san cristobal, VE ID: 3628473\n",
      "processing record kabalo, CD ID: 215668\n",
      "processing record adamas, GR ID: 265711\n",
      "processing record shyryayeve, UA ID: 694016\n",
      "processing record gamba, GA ID: 2400547\n",
      "skipping city\n",
      "processing record manzhouli, CN ID: 2035836\n",
      "processing record kutum, SD ID: 371745\n",
      "processing record ponta delgada, PT ID: 3372783\n",
      "processing record princeton, US ID: 4169345\n",
      "processing record pitimbu, BR ID: 3391889\n",
      "skipping city\n",
      "processing record arani, IN ID: 1278454\n",
      "processing record nakatsugawa, JP ID: 1855753\n",
      "processing record the pas, CA ID: 6164499\n",
      "processing record merauke, ID ID: 2082539\n",
      "processing record cruzeiro do sul, BR ID: 3465080\n",
      "processing record palu, ID ID: 1633034\n",
      "processing record orel-izumrud, RU ID: 803494\n",
      "processing record sambulawan, PH ID: 1696017\n",
      "processing record eyrarbakki, IS ID: 3413604\n",
      "processing record balkhash, KZ ID: 1525798\n",
      "processing record bambanglipuro, ID ID: 1650434\n",
      "processing record nizhniy odes, RU ID: 520552\n",
      "processing record hervey bay, AU ID: 2146219\n",
      "processing record baijiantan, CN ID: 1529626\n",
      "processing record tucupita, VE ID: 3625929\n",
      "processing record changli, CN ID: 1815656\n",
      "processing record naze, JP ID: 1855540\n",
      "processing record ayan, RU ID: 2027316\n",
      "processing record jaypur, IN ID: 1269092\n",
      "processing record north bend, US ID: 5742974\n",
      "processing record tsumeb, NA ID: 3352593\n",
      "processing record dinghai, CN ID: 1812805\n"
     ]
    },
    {
     "name": "stdout",
     "output_type": "stream",
     "text": [
      "processing record heilbron, ZA ID: 997140\n",
      "processing record deep river, CA ID: 5937073\n",
      "processing record sandwick, GB ID: 2638534\n",
      "processing record bridlington, GB ID: 2654728\n",
      "processing record crateus, BR ID: 3401548\n",
      "processing record meadow lake, US ID: 5478673\n",
      "processing record samarai, PG ID: 2132606\n",
      "processing record labuhan, ID ID: 8079926\n",
      "processing record verkhoyansk, RU ID: 2013465\n",
      "processing record kerchevskiy, RU ID: 551047\n",
      "processing record novopavlovka, RU ID: 2018896\n",
      "processing record shieli, KZ ID: 1524801\n",
      "processing record cape canaveral, US ID: 4149959\n",
      "processing record talcahuano, CL ID: 3870282\n"
     ]
    }
   ],
   "source": [
    "currentWeatherAPI = \"http://api.openweathermap.org/data/2.5/weather?\"\n",
    "units = \"Imperial\"\n",
    "\n",
    "temperature = []\n",
    "humidity = []\n",
    "cloudiness = []\n",
    "windSpeed = []\n",
    "lat = []\n",
    "cityID = []\n",
    "cityName = []\n",
    "maxTemp = []\n",
    "lng = []\n",
    "country = []\n",
    "\n",
    "# Build partial query URL\n",
    "query_url = f\"{currentWeatherAPI}appid={weather_api_key}&units={units}&q=\"\n",
    "for city in cities:\n",
    "    response = requests.get(query_url + city).json()\n",
    "    if response['cod'] == 200:\n",
    "        lat.append(response['coord']['lat'])\n",
    "        lng.append(response['coord']['lon'])\n",
    "        temperature.append(response['main']['temp'])\n",
    "        humidity.append(response['main']['humidity'])\n",
    "        windSpeed.append(response['wind']['speed'])\n",
    "        cloudiness.append(response['clouds']['all'])\n",
    "        cityID.append(response['id'])\n",
    "        cityName.append(response['name'])\n",
    "        maxTemp.append(response['main']['temp_max'])\n",
    "        country.append(response['sys']['country'])\n",
    "        print(f\"processing record {city}, {response['sys']['country']} ID: {response['id']}\")\n",
    "    else:\n",
    "        print(\"skipping city\")"
   ]
  },
  {
   "cell_type": "markdown",
   "metadata": {},
   "source": [
    "### Convert Raw Data to DataFrame\n",
    "* Export the city data into a .csv.\n",
    "* Display the DataFrame"
   ]
  },
  {
   "cell_type": "code",
   "execution_count": 31,
   "metadata": {},
   "outputs": [],
   "source": [
    "cityWeatherDF = pd.DataFrame({'CityID': cityID,\n",
    "                              'CityName': cityName,\n",
    "                              'Country': country,\n",
    "                              'Lat': lat,\n",
    "                              'Lng': lng,\n",
    "                              'Temperature': temperature,\n",
    "                              'MaxTemp': maxTemp,\n",
    "                              'Humidity': humidity,\n",
    "                              'Cloudiness': cloudiness,\n",
    "                              'WindSpeed': windSpeed})\n",
    "cityWeatherDF.to_csv('city_weather.csv')"
   ]
  },
  {
   "cell_type": "markdown",
   "metadata": {},
   "source": [
    "### Plotting the Data\n",
    "* Use proper labeling of the plots using plot titles (including date of analysis) and axes labels.\n",
    "* Save the plotted figures as .pngs."
   ]
  },
  {
   "cell_type": "markdown",
   "metadata": {},
   "source": [
    "#### Latitude vs. Temperature Plot"
   ]
  },
  {
   "cell_type": "code",
   "execution_count": 32,
   "metadata": {
    "scrolled": true
   },
   "outputs": [
    {
     "data": {
      "image/png": "[encoded data removed]",
      "text/plain": [
       "<Figure size 432x288 with 1 Axes>"
      ]
     },
     "metadata": {
      "needs_background": "light"
     },
     "output_type": "display_data"
    }
   ],
   "source": [
    "x_values = cityWeatherDF['Lat']\n",
    "y_values = cityWeatherDF['Temperature']\n",
    "plt.scatter(x_values,y_values)\n",
    "plt.xlabel('Latitude')\n",
    "plt.ylabel('Temperature (F)')\n",
    "plt.title('Latitude vs Temperature 1/18/2020')\n",
    "plt.show()\n",
    "\n",
    "#in this graph, we are showing the relationshpi of temperature vs latitude. As expected, it is mostly hyperbolic."
   ]
  },
  {
   "cell_type": "markdown",
   "metadata": {},
   "source": [
    "#### Latitude vs. Humidity Plot"
   ]
  },
  {
   "cell_type": "code",
   "execution_count": 33,
   "metadata": {},
   "outputs": [
    {
     "data": {
      "image/png": "[encoded data removed]",
      "text/plain": [
       "<Figure size 432x288 with 1 Axes>"
      ]
     },
     "metadata": {
      "needs_background": "light"
     },
     "output_type": "display_data"
    }
   ],
   "source": [
    "x_values = cityWeatherDF['Lat']\n",
    "y_values = cityWeatherDF['Humidity']\n",
    "plt.scatter(x_values,y_values)\n",
    "plt.xlabel('Latitude')\n",
    "plt.ylabel('Humidity%')\n",
    "plt.title('Latitude vs Humidity 1/18/2020')\n",
    "plt.show()\n",
    "\n",
    "#this plot is an attempt to show any patterns between humidity and latitude. While the chart is fairly spersed \n",
    "#you can still make out an expected pattern that the more positive or negative you go from the center, the more\n",
    "#humid it is. You can also see that where you would expectedly get hotter, the humidity drops before shooting back up at center.\n"
   ]
  },
  {
   "cell_type": "markdown",
   "metadata": {},
   "source": [
    "#### Latitude vs. Cloudiness Plot"
   ]
  },
  {
   "cell_type": "code",
   "execution_count": 34,
   "metadata": {},
   "outputs": [
    {
     "data": {
      "image/png": "[encoded data removed]",
      "text/plain": [
       "<Figure size 432x288 with 1 Axes>"
      ]
     },
     "metadata": {
      "needs_background": "light"
     },
     "output_type": "display_data"
    }
   ],
   "source": [
    "x_values = cityWeatherDF['Lat']\n",
    "y_values = cityWeatherDF['Cloudiness']\n",
    "plt.scatter(x_values,y_values)\n",
    "plt.xlabel('Latitude')\n",
    "plt.ylabel('Cloudiness %')\n",
    "plt.title('Latitude vs Cloudiness 1/18/2020')\n",
    "plt.show()\n",
    "\n",
    "#this plot is interesting. I expected there to be a direct corelation of clouds to latitude, as it relates to humitidy.\n",
    "#this tries to demonstrate that correlation though interesting to note that there are horizontal trends, not vertical."
   ]
  },
  {
   "cell_type": "markdown",
   "metadata": {},
   "source": [
    "#### Latitude vs. Wind Speed Plot"
   ]
  },
  {
   "cell_type": "code",
   "execution_count": 35,
   "metadata": {},
   "outputs": [
    {
     "data": {
      "image/png": "[encoded data removed]",
      "text/plain": [
       "<Figure size 432x288 with 1 Axes>"
      ]
     },
     "metadata": {
      "needs_background": "light"
     },
     "output_type": "display_data"
    }
   ],
   "source": [
    "x_values = cityWeatherDF['Lat']\n",
    "y_values = cityWeatherDF['WindSpeed']\n",
    "plt.scatter(x_values,y_values)\n",
    "plt.xlabel('Latitude')\n",
    "plt.ylabel('Wind Speed (MPH)')\n",
    "plt.title('Latitude vs Wind Speed 1/18/2020')\n",
    "plt.show()\n",
    "#this plot attempts to show correlation between wind speed and latitude. There seemingly is none as regardless of latitude,\n",
    "#the normal is tightly packed with a few outliers."
   ]
  },
  {
   "cell_type": "markdown",
   "metadata": {},
   "source": [
    "## Linear Regression"
   ]
  },
  {
   "cell_type": "code",
   "execution_count": 9,
   "metadata": {},
   "outputs": [],
   "source": [
    "# OPTIONAL: Create a function to create Linear Regression plots\n"
   ]
  },
  {
   "cell_type": "code",
   "execution_count": 36,
   "metadata": {},
   "outputs": [
    {
     "data": {
      "text/html": [
       "<div>\n",
       "<style scoped>\n",
       "    .dataframe tbody tr th:only-of-type {\n",
       "        vertical-align: middle;\n",
       "    }\n",
       "\n",
       "    .dataframe tbody tr th {\n",
       "        vertical-align: top;\n",
       "    }\n",
       "\n",
       "    .dataframe thead th {\n",
       "        text-align: right;\n",
       "    }\n",
       "</style>\n",
       "<table border=\"1\" class=\"dataframe\">\n",
       "  <thead>\n",
       "    <tr style=\"text-align: right;\">\n",
       "      <th></th>\n",
       "      <th>CityID</th>\n",
       "      <th>CityName</th>\n",
       "      <th>Country</th>\n",
       "      <th>Lat</th>\n",
       "      <th>Lng</th>\n",
       "      <th>Temperature</th>\n",
       "      <th>MaxTemp</th>\n",
       "      <th>Humidity</th>\n",
       "      <th>Cloudiness</th>\n",
       "      <th>WindSpeed</th>\n",
       "    </tr>\n",
       "  </thead>\n",
       "  <tbody>\n",
       "    <tr>\n",
       "      <td>0</td>\n",
       "      <td>1282256</td>\n",
       "      <td>Hithadhoo</td>\n",
       "      <td>MV</td>\n",
       "      <td>-0.60</td>\n",
       "      <td>73.08</td>\n",
       "      <td>83.12</td>\n",
       "      <td>83.12</td>\n",
       "      <td>73</td>\n",
       "      <td>76</td>\n",
       "      <td>9.80</td>\n",
       "    </tr>\n",
       "    <tr>\n",
       "      <td>2</td>\n",
       "      <td>2094342</td>\n",
       "      <td>Kavieng</td>\n",
       "      <td>PG</td>\n",
       "      <td>-2.57</td>\n",
       "      <td>150.80</td>\n",
       "      <td>84.22</td>\n",
       "      <td>84.22</td>\n",
       "      <td>73</td>\n",
       "      <td>75</td>\n",
       "      <td>21.68</td>\n",
       "    </tr>\n",
       "    <tr>\n",
       "      <td>3</td>\n",
       "      <td>3369157</td>\n",
       "      <td>Cape Town</td>\n",
       "      <td>ZA</td>\n",
       "      <td>-33.93</td>\n",
       "      <td>18.42</td>\n",
       "      <td>66.13</td>\n",
       "      <td>66.99</td>\n",
       "      <td>56</td>\n",
       "      <td>42</td>\n",
       "      <td>8.01</td>\n",
       "    </tr>\n",
       "    <tr>\n",
       "      <td>4</td>\n",
       "      <td>933995</td>\n",
       "      <td>Souillac</td>\n",
       "      <td>MU</td>\n",
       "      <td>-20.52</td>\n",
       "      <td>57.52</td>\n",
       "      <td>80.01</td>\n",
       "      <td>80.01</td>\n",
       "      <td>86</td>\n",
       "      <td>80</td>\n",
       "      <td>1.99</td>\n",
       "    </tr>\n",
       "    <tr>\n",
       "      <td>7</td>\n",
       "      <td>1048364</td>\n",
       "      <td>Chokwe</td>\n",
       "      <td>MZ</td>\n",
       "      <td>-24.53</td>\n",
       "      <td>32.98</td>\n",
       "      <td>72.07</td>\n",
       "      <td>72.07</td>\n",
       "      <td>85</td>\n",
       "      <td>97</td>\n",
       "      <td>16.98</td>\n",
       "    </tr>\n",
       "    <tr>\n",
       "      <td>...</td>\n",
       "      <td>...</td>\n",
       "      <td>...</td>\n",
       "      <td>...</td>\n",
       "      <td>...</td>\n",
       "      <td>...</td>\n",
       "      <td>...</td>\n",
       "      <td>...</td>\n",
       "      <td>...</td>\n",
       "      <td>...</td>\n",
       "      <td>...</td>\n",
       "    </tr>\n",
       "    <tr>\n",
       "      <td>560</td>\n",
       "      <td>997140</td>\n",
       "      <td>Heilbron</td>\n",
       "      <td>ZA</td>\n",
       "      <td>-27.28</td>\n",
       "      <td>27.97</td>\n",
       "      <td>55.89</td>\n",
       "      <td>55.89</td>\n",
       "      <td>79</td>\n",
       "      <td>23</td>\n",
       "      <td>18.88</td>\n",
       "    </tr>\n",
       "    <tr>\n",
       "      <td>564</td>\n",
       "      <td>3401548</td>\n",
       "      <td>Crateus</td>\n",
       "      <td>BR</td>\n",
       "      <td>-5.18</td>\n",
       "      <td>-40.68</td>\n",
       "      <td>76.42</td>\n",
       "      <td>76.42</td>\n",
       "      <td>81</td>\n",
       "      <td>100</td>\n",
       "      <td>6.60</td>\n",
       "    </tr>\n",
       "    <tr>\n",
       "      <td>566</td>\n",
       "      <td>2132606</td>\n",
       "      <td>Samarai</td>\n",
       "      <td>PG</td>\n",
       "      <td>-10.62</td>\n",
       "      <td>150.67</td>\n",
       "      <td>88.39</td>\n",
       "      <td>88.39</td>\n",
       "      <td>57</td>\n",
       "      <td>49</td>\n",
       "      <td>5.21</td>\n",
       "    </tr>\n",
       "    <tr>\n",
       "      <td>567</td>\n",
       "      <td>8079926</td>\n",
       "      <td>Labuhan</td>\n",
       "      <td>ID</td>\n",
       "      <td>-6.88</td>\n",
       "      <td>112.21</td>\n",
       "      <td>77.90</td>\n",
       "      <td>77.90</td>\n",
       "      <td>86</td>\n",
       "      <td>98</td>\n",
       "      <td>3.18</td>\n",
       "    </tr>\n",
       "    <tr>\n",
       "      <td>573</td>\n",
       "      <td>3870282</td>\n",
       "      <td>Talcahuano</td>\n",
       "      <td>CL</td>\n",
       "      <td>-36.72</td>\n",
       "      <td>-73.12</td>\n",
       "      <td>55.40</td>\n",
       "      <td>55.40</td>\n",
       "      <td>100</td>\n",
       "      <td>75</td>\n",
       "      <td>9.17</td>\n",
       "    </tr>\n",
       "  </tbody>\n",
       "</table>\n",
       "<p>183 rows × 10 columns</p>\n",
       "</div>"
      ],
      "text/plain": [
       "      CityID    CityName Country    Lat     Lng  Temperature  MaxTemp  \\\n",
       "0    1282256   Hithadhoo      MV  -0.60   73.08        83.12    83.12   \n",
       "2    2094342     Kavieng      PG  -2.57  150.80        84.22    84.22   \n",
       "3    3369157   Cape Town      ZA -33.93   18.42        66.13    66.99   \n",
       "4     933995    Souillac      MU -20.52   57.52        80.01    80.01   \n",
       "7    1048364      Chokwe      MZ -24.53   32.98        72.07    72.07   \n",
       "..       ...         ...     ...    ...     ...          ...      ...   \n",
       "560   997140    Heilbron      ZA -27.28   27.97        55.89    55.89   \n",
       "564  3401548     Crateus      BR  -5.18  -40.68        76.42    76.42   \n",
       "566  2132606     Samarai      PG -10.62  150.67        88.39    88.39   \n",
       "567  8079926     Labuhan      ID  -6.88  112.21        77.90    77.90   \n",
       "573  3870282  Talcahuano      CL -36.72  -73.12        55.40    55.40   \n",
       "\n",
       "     Humidity  Cloudiness  WindSpeed  \n",
       "0          73          76       9.80  \n",
       "2          73          75      21.68  \n",
       "3          56          42       8.01  \n",
       "4          86          80       1.99  \n",
       "7          85          97      16.98  \n",
       "..        ...         ...        ...  \n",
       "560        79          23      18.88  \n",
       "564        81         100       6.60  \n",
       "566        57          49       5.21  \n",
       "567        86          98       3.18  \n",
       "573       100          75       9.17  \n",
       "\n",
       "[183 rows x 10 columns]"
      ]
     },
     "execution_count": 36,
     "metadata": {},
     "output_type": "execute_result"
    }
   ],
   "source": [
    "# Create Northern and Southern Hemisphere DataFrames\n",
    "northSideDF = cityWeatherDF[cityWeatherDF['Lat'] > 0]\n",
    "southSideDF = cityWeatherDF[cityWeatherDF['Lat'] < 0]\n",
    "southSideDF\n"
   ]
  },
  {
   "cell_type": "markdown",
   "metadata": {},
   "source": [
    "####  Northern Hemisphere - Max Temp vs. Latitude Linear Regression"
   ]
  },
  {
   "cell_type": "code",
   "execution_count": 37,
   "metadata": {},
   "outputs": [
    {
     "name": "stdout",
     "output_type": "stream",
     "text": [
      "The r-squared is: 0.7224626281180445\n"
     ]
    },
    {
     "data": {
      "image/png": "[encoded data removed]",
      "text/plain": [
       "<Figure size 432x288 with 1 Axes>"
      ]
     },
     "metadata": {
      "needs_background": "light"
     },
     "output_type": "display_data"
    }
   ],
   "source": [
    "x_values = northSideDF['Lat']\n",
    "y_values = northSideDF['MaxTemp']\n",
    "\n",
    "# Perform a linear regression on Max Temperature vs. latitude\n",
    "(slope, intercept, rvalue, pvalue, stderr) = linregress(x_values, y_values)\n",
    "\n",
    "# Get regression values\n",
    "regress_values = x_values * slope + intercept\n",
    "\n",
    "line_eq = \"y = \" + str(round(slope,2)) + \"x +\" + str(round(intercept,2))\n",
    "\n",
    "plt.scatter(x_values,y_values)\n",
    "plt.plot(x_values,regress_values,\"r-\")\n",
    "\n",
    "# Label plot and annotate the line equation\n",
    "plt.xlabel('Latitude')\n",
    "plt.ylabel('Max Temperature (F)')\n",
    "plt.annotate(line_eq,(0,15),fontsize=15,color=\"red\")\n",
    "\n",
    "# Print r square value\n",
    "print(f\"The r-squared is: {rvalue*rvalue}\")\n",
    "\n",
    "# Show plot\n",
    "plt.show()"
   ]
  },
  {
   "cell_type": "markdown",
   "metadata": {},
   "source": [
    "####  Southern Hemisphere - Max Temp vs. Latitude Linear Regression"
   ]
  },
  {
   "cell_type": "code",
   "execution_count": 38,
   "metadata": {},
   "outputs": [
    {
     "name": "stdout",
     "output_type": "stream",
     "text": [
      "y = 0.29x +80.73\n",
      "The r-squared is: 0.19406015974802043\n"
     ]
    },
    {
     "data": {
      "image/png": "[encoded data removed]",
      "text/plain": [
       "<Figure size 432x288 with 1 Axes>"
      ]
     },
     "metadata": {
      "needs_background": "light"
     },
     "output_type": "display_data"
    }
   ],
   "source": [
    "x_values = southSideDF['Lat']\n",
    "y_values = southSideDF['MaxTemp']\n",
    "\n",
    "# Perform a linear regression on Max Temperature vs. latitude\n",
    "(slope, intercept, rvalue, pvalue, stderr) = linregress(x_values, y_values)\n",
    "\n",
    "# Get regression values\n",
    "regress_values = x_values * slope + intercept\n",
    "\n",
    "line_eq = \"y = \" + str(round(slope,2)) + \"x +\" + str(round(intercept,2))\n",
    "print(line_eq)\n",
    "plt.scatter(x_values,y_values)\n",
    "plt.plot(x_values,regress_values,\"r-\")\n",
    "\n",
    "# Label plot and annotate the line equation\n",
    "plt.xlabel('Latitude')\n",
    "plt.ylabel('Max Temperature (F)')\n",
    "plt.annotate(line_eq,(-30,60),fontsize=15,color=\"red\")\n",
    "\n",
    "# Print r square value\n",
    "print(f\"The r-squared is: {rvalue*rvalue}\")\n",
    "\n",
    "# Show plot\n",
    "plt.show()"
   ]
  },
  {
   "cell_type": "code",
   "execution_count": 1,
   "metadata": {},
   "outputs": [],
   "source": [
    "#The 2 plots show corelation between the max recorded temperature given latitude. As you can expect,\n",
    "#the temperature rises the closer to 0 latitude we get, and lowers when we move away."
   ]
  },
  {
   "cell_type": "markdown",
   "metadata": {},
   "source": [
    "####  Northern Hemisphere - Humidity (%) vs. Latitude Linear Regression"
   ]
  },
  {
   "cell_type": "code",
   "execution_count": 39,
   "metadata": {},
   "outputs": [
    {
     "name": "stdout",
     "output_type": "stream",
     "text": [
      "y = 0.35x +60.47\n",
      "The r-squared is: 0.12946824971056617\n"
     ]
    },
    {
     "data": {
      "image/png": "[encoded data removed]",
      "text/plain": [
       "<Figure size 432x288 with 1 Axes>"
      ]
     },
     "metadata": {
      "needs_background": "light"
     },
     "output_type": "display_data"
    }
   ],
   "source": [
    "x_values = northSideDF['Lat']\n",
    "y_values = northSideDF['Humidity']\n",
    "\n",
    "# Perform a linear regression on Max Temperature vs. latitude\n",
    "(slope, intercept, rvalue, pvalue, stderr) = linregress(x_values, y_values)\n",
    "\n",
    "# Get regression values\n",
    "regress_values = x_values * slope + intercept\n",
    "\n",
    "line_eq = \"y = \" + str(round(slope,2)) + \"x +\" + str(round(intercept,2))\n",
    "print(line_eq)\n",
    "plt.scatter(x_values,y_values)\n",
    "plt.plot(x_values,regress_values,\"r-\")\n",
    "\n",
    "# Label plot and annotate the line equation\n",
    "plt.xlabel('Latitude')\n",
    "plt.ylabel('Max Temperature (F)')\n",
    "plt.annotate(line_eq,(45,25),fontsize=15,color=\"red\")\n",
    "\n",
    "# Print r square value\n",
    "print(f\"The r-squared is: {rvalue*rvalue}\")\n",
    "\n",
    "# Show plot\n",
    "plt.show()"
   ]
  },
  {
   "cell_type": "markdown",
   "metadata": {},
   "source": [
    "####  Southern Hemisphere - Humidity (%) vs. Latitude Linear Regression"
   ]
  },
  {
   "cell_type": "code",
   "execution_count": 40,
   "metadata": {},
   "outputs": [
    {
     "name": "stdout",
     "output_type": "stream",
     "text": [
      "y = 0.31x +83.0\n",
      "The r-squared is: 0.07972559304080089\n"
     ]
    },
    {
     "data": {
      "image/png": "[encoded data removed]",
      "text/plain": [
       "<Figure size 432x288 with 1 Axes>"
      ]
     },
     "metadata": {
      "needs_background": "light"
     },
     "output_type": "display_data"
    }
   ],
   "source": [
    "x_values = southSideDF['Lat']\n",
    "y_values = southSideDF['Humidity']\n",
    "\n",
    "# Perform a linear regression on Max Temperature vs. latitude\n",
    "(slope, intercept, rvalue, pvalue, stderr) = linregress(x_values, y_values)\n",
    "\n",
    "# Get regression values\n",
    "regress_values = x_values * slope + intercept\n",
    "\n",
    "line_eq = \"y = \" + str(round(slope,2)) + \"x +\" + str(round(intercept,2))\n",
    "print(line_eq)\n",
    "plt.scatter(x_values,y_values)\n",
    "plt.plot(x_values,regress_values,\"r-\")\n",
    "\n",
    "# Label plot and annotate the line equation\n",
    "plt.xlabel('Latitude')\n",
    "plt.ylabel('Max Temperature (F)')\n",
    "plt.annotate(line_eq,(-40,30),fontsize=15,color=\"red\")\n",
    "\n",
    "# Print r square value\n",
    "print(f\"The r-squared is: {rvalue*rvalue}\")\n",
    "\n",
    "# Show plot\n",
    "plt.show()"
   ]
  },
  {
   "cell_type": "code",
   "execution_count": null,
   "metadata": {},
   "outputs": [],
   "source": [
    "#these plots attempt to show correlation between humidity and latitude one for nothern and one for southern hemisphere.\n",
    "# there is very minimal correlation, but on both north and southern plots, we can see a hyperbolic dip in temperatures\n",
    "# in the 10-40 bands respectively. "
   ]
  },
  {
   "cell_type": "markdown",
   "metadata": {},
   "source": [
    "####  Northern Hemisphere - Cloudiness (%) vs. Latitude Linear Regression"
   ]
  },
  {
   "cell_type": "code",
   "execution_count": 41,
   "metadata": {},
   "outputs": [
    {
     "name": "stdout",
     "output_type": "stream",
     "text": [
      "y = 0.56x +27.02\n",
      "The r-squared is: 0.08325355537104707\n"
     ]
    },
    {
     "data": {
      "image/png": "[encoded data removed]",
      "text/plain": [
       "<Figure size 432x288 with 1 Axes>"
      ]
     },
     "metadata": {
      "needs_background": "light"
     },
     "output_type": "display_data"
    }
   ],
   "source": [
    "x_values = northSideDF['Lat']\n",
    "y_values = northSideDF['Cloudiness']\n",
    "\n",
    "# Perform a linear regression on Max Temperature vs. latitude\n",
    "(slope, intercept, rvalue, pvalue, stderr) = linregress(x_values, y_values)\n",
    "\n",
    "# Get regression values\n",
    "regress_values = x_values * slope + intercept\n",
    "\n",
    "line_eq = \"y = \" + str(round(slope,2)) + \"x +\" + str(round(intercept,2))\n",
    "print(line_eq)\n",
    "plt.scatter(x_values,y_values)\n",
    "plt.plot(x_values,regress_values,\"r-\")\n",
    "\n",
    "# Label plot and annotate the line equation\n",
    "plt.xlabel('Latitude')\n",
    "plt.ylabel('Cloudiness %')\n",
    "plt.annotate(line_eq,(45,25),fontsize=15,color=\"red\")\n",
    "\n",
    "# Print r square value\n",
    "print(f\"The r-squared is: {rvalue*rvalue}\")\n",
    "\n",
    "# Show plot\n",
    "plt.show()"
   ]
  },
  {
   "cell_type": "markdown",
   "metadata": {},
   "source": [
    "####  Southern Hemisphere - Cloudiness (%) vs. Latitude Linear Regression"
   ]
  },
  {
   "cell_type": "code",
   "execution_count": 42,
   "metadata": {},
   "outputs": [
    {
     "name": "stdout",
     "output_type": "stream",
     "text": [
      "y = 0.44x +70.67\n",
      "The r-squared is: 0.03142512597600801\n"
     ]
    },
    {
     "data": {
      "image/png": "[encoded data removed]",
      "text/plain": [
       "<Figure size 432x288 with 1 Axes>"
      ]
     },
     "metadata": {
      "needs_background": "light"
     },
     "output_type": "display_data"
    }
   ],
   "source": [
    "x_values = southSideDF['Lat']\n",
    "y_values = southSideDF['Cloudiness']\n",
    "\n",
    "# Perform a linear regression on Max Temperature vs. latitude\n",
    "(slope, intercept, rvalue, pvalue, stderr) = linregress(x_values, y_values)\n",
    "\n",
    "# Get regression values\n",
    "regress_values = x_values * slope + intercept\n",
    "\n",
    "line_eq = \"y = \" + str(round(slope,2)) + \"x +\" + str(round(intercept,2))\n",
    "print(line_eq)\n",
    "plt.scatter(x_values,y_values)\n",
    "plt.plot(x_values,regress_values,\"r-\")\n",
    "\n",
    "# Label plot and annotate the line equation\n",
    "plt.xlabel('Latitude')\n",
    "plt.ylabel('Cloudiness %')\n",
    "plt.annotate(line_eq,(-50,10),fontsize=15,color=\"red\")\n",
    "\n",
    "# Print r square value\n",
    "print(f\"The r-squared is: {rvalue*rvalue}\")\n",
    "\n",
    "# Show plot\n",
    "plt.show()"
   ]
  },
  {
   "cell_type": "code",
   "execution_count": null,
   "metadata": {},
   "outputs": [],
   "source": [
    "#This attempts to show any differences or similarities between the north and south in relations to cloudiness. As with the\n",
    "#overall plot, there seems to be a lack of trends in regard to latitude, but definitely some trend lines in regards to\n",
    "# the amount of cloudiness points at specicific %s regardless of the latitude."
   ]
  },
  {
   "cell_type": "markdown",
   "metadata": {},
   "source": [
    "####  Northern Hemisphere - Wind Speed (mph) vs. Latitude Linear Regression"
   ]
  },
  {
   "cell_type": "code",
   "execution_count": 43,
   "metadata": {},
   "outputs": [
    {
     "name": "stdout",
     "output_type": "stream",
     "text": [
      "y = 0.06x +6.42\n",
      "The r-squared is: 0.03132450021147478\n"
     ]
    },
    {
     "data": {
      "image/png": "[encoded data removed]",
      "text/plain": [
       "<Figure size 432x288 with 1 Axes>"
      ]
     },
     "metadata": {
      "needs_background": "light"
     },
     "output_type": "display_data"
    }
   ],
   "source": [
    "x_values = northSideDF['Lat']\n",
    "y_values = northSideDF['WindSpeed']\n",
    "\n",
    "# Perform a linear regression on Max Temperature vs. latitude\n",
    "(slope, intercept, rvalue, pvalue, stderr) = linregress(x_values, y_values)\n",
    "\n",
    "# Get regression values\n",
    "regress_values = x_values * slope + intercept\n",
    "\n",
    "line_eq = \"y = \" + str(round(slope,2)) + \"x +\" + str(round(intercept,2))\n",
    "print(line_eq)\n",
    "plt.scatter(x_values,y_values)\n",
    "plt.plot(x_values,regress_values,\"r-\")\n",
    "\n",
    "# Label plot and annotate the line equation\n",
    "plt.xlabel('Latitude')\n",
    "plt.ylabel('Wind Speed (MPH)')\n",
    "plt.annotate(line_eq,(45,25),fontsize=15,color=\"red\")\n",
    "\n",
    "# Print r square value\n",
    "print(f\"The r-squared is: {rvalue*rvalue}\")\n",
    "\n",
    "# Show plot\n",
    "plt.show()"
   ]
  },
  {
   "cell_type": "markdown",
   "metadata": {},
   "source": [
    "####  Southern Hemisphere - Wind Speed (mph) vs. Latitude Linear Regression"
   ]
  },
  {
   "cell_type": "code",
   "execution_count": 44,
   "metadata": {},
   "outputs": [
    {
     "name": "stdout",
     "output_type": "stream",
     "text": [
      "y = -0.15x +5.87\n",
      "The r-squared is: 0.10138243591543337\n"
     ]
    },
    {
     "data": {
      "image/png": "[encoded data removed]",
      "text/plain": [
       "<Figure size 432x288 with 1 Axes>"
      ]
     },
     "metadata": {
      "needs_background": "light"
     },
     "output_type": "display_data"
    }
   ],
   "source": [
    "x_values = southSideDF['Lat']\n",
    "y_values = southSideDF['WindSpeed']\n",
    "\n",
    "# Perform a linear regression on Max Temperature vs. latitude\n",
    "(slope, intercept, rvalue, pvalue, stderr) = linregress(x_values, y_values)\n",
    "\n",
    "# Get regression values\n",
    "regress_values = x_values * slope + intercept\n",
    "\n",
    "line_eq = \"y = \" + str(round(slope,2)) + \"x +\" + str(round(intercept,2))\n",
    "print(line_eq)\n",
    "plt.scatter(x_values,y_values)\n",
    "plt.plot(x_values,regress_values,\"r-\")\n",
    "\n",
    "# Label plot and annotate the line equation\n",
    "plt.xlabel('Latitude')\n",
    "plt.ylabel('Wind Speed (MPH)')\n",
    "plt.annotate(line_eq,(-30,25),fontsize=15,color=\"red\")\n",
    "\n",
    "# Print r square value\n",
    "print(f\"The r-squared is: {rvalue*rvalue}\")\n",
    "\n",
    "# Show plot\n",
    "plt.show()"
   ]
  },
  {
   "cell_type": "code",
   "execution_count": 2,
   "metadata": {},
   "outputs": [],
   "source": [
    "#northern and southern hemisphere both seem to have a lot of data bunched in the same wind speed range. This to me would be\n",
    "#expected as human life and wildlife would likely have issues living in habitats of high wind speeds. There are a couple outliers\n",
    "#likely in cities more costal or devoid of major life, they would be the outliers."
   ]
  },
  {
   "cell_type": "code",
   "execution_count": null,
   "metadata": {},
   "outputs": [],
   "source": []
  }
 ],
 "metadata": {
  "anaconda-cloud": {},
  "kernel_info": {
   "name": "python3"
  },
  "kernelspec": {
   "display_name": "Python 3",
   "language": "python",
   "name": "python3"
  },
  "language_info": {
   "codemirror_mode": {
    "name": "ipython",
    "version": 3
   },
   "file_extension": ".py",
   "mimetype": "text/x-python",
   "name": "python",
   "nbconvert_exporter": "python",
   "pygments_lexer": "ipython3",
   "version": "3.7.4"
  },
  "latex_envs": {
   "LaTeX_envs_menu_present": true,
   "autoclose": false,
   "autocomplete": true,
   "bibliofile": "biblio.bib",
   "cite_by": "apalike",
   "current_citInitial": 1,
   "eqLabelWithNumbers": true,
   "eqNumInitial": 1,
   "hotkeys": {
    "equation": "Ctrl-E",
    "itemize": "Ctrl-I"
   },
   "labels_anchors": false,
   "latex_user_defs": false,
   "report_style_numbering": false,
   "user_envs_cfg": false
  },
  "nteract": {
   "version": "0.12.3"
  }
 },
 "nbformat": 4,
 "nbformat_minor": 2
}
